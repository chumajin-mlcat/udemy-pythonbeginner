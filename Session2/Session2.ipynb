{
  "cells": [
    {
      "cell_type": "markdown",
      "metadata": {},
      "source": [
        "お手本コード\n",
        "\n",
        "[![Open In Colab](https://colab.research.google.com/assets/colab-badge.svg)](http://colab.research.google.com/github/chumajin-mlcat/udemy-pythonbeginner/blob/main/Session2/Session2.ipynb)"
      ]
    },
    {
      "cell_type": "markdown",
      "metadata": {},
      "source": [
        "写経用のnotebook\n",
        "\n",
        "[![Open In Colab](https://colab.research.google.com/assets/colab-badge.svg)](http://colab.research.google.com/github/chumajin-mlcat/udemy-pythonbeginner/blob/main/blank.ipynb)"
      ]
    },
    {
      "cell_type": "code",
      "execution_count": null,
      "metadata": {},
      "outputs": [],
      "source": []
    },
    {
      "cell_type": "markdown",
      "metadata": {
        "id": "6vEF0c58qSe8"
      },
      "source": [
        "# Session 2\n",
        " 0. google colabの使い方\n",
        "\n",
        "\n",
        " 1. 説明文の追加について(Markdown方式)\n",
        "\n",
        "\n",
        " 2. 簡単な復習と基本演算\n",
        "\n",
        "\n",
        " 3. 変数と文字列\n",
        "\n",
        "\n",
        " 4. List"
      ]
    },
    {
      "cell_type": "code",
      "execution_count": null,
      "metadata": {
        "id": "x8vnGytIqSe9"
      },
      "outputs": [],
      "source": []
    },
    {
      "cell_type": "markdown",
      "metadata": {
        "id": "lZX9JU7CqSe9",
        "tags": []
      },
      "source": [
        "# 0.Google colabの使い方 &#x1f600;"
      ]
    },
    {
      "cell_type": "markdown",
      "metadata": {
        "id": "LJBuDp-AsgtU"
      },
      "source": [
        "Shift押しながらEnterで　実行　です!!!"
      ]
    },
    {
      "cell_type": "code",
      "execution_count": 2,
      "metadata": {
        "colab": {
          "base_uri": "https://localhost:8080/"
        },
        "id": "YPX_98TArQKr",
        "outputId": "bf1554a8-b729-4947-d348-d34ec49c9ecc"
      },
      "outputs": [
        {
          "data": {
            "text/plain": [
              "9"
            ]
          },
          "execution_count": 2,
          "metadata": {},
          "output_type": "execute_result"
        }
      ],
      "source": [
        "3*3"
      ]
    },
    {
      "cell_type": "markdown",
      "metadata": {
        "id": "0FSeit59rCMk"
      },
      "source": [
        "セルを消すときはゴミ箱マーク\n",
        "![image.png](data:image/png;base64,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)"
      ]
    },
    {
      "cell_type": "markdown",
      "metadata": {
        "id": "1qHryV86rkpj"
      },
      "source": [
        "セル(プログラミング用のコード)を追加するときは+ コード\n",
        "\n",
        "![image.png](data:image/png;base64,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)"
      ]
    },
    {
      "cell_type": "code",
      "execution_count": 3,
      "metadata": {
        "colab": {
          "base_uri": "https://localhost:8080/"
        },
        "id": "ht3vxHhNsEiT",
        "outputId": "a92a2370-1124-4608-da3f-5469f73c7ed2"
      },
      "outputs": [
        {
          "data": {
            "text/plain": [
              "12"
            ]
          },
          "execution_count": 3,
          "metadata": {},
          "output_type": "execute_result"
        }
      ],
      "source": [
        "4*3"
      ]
    },
    {
      "cell_type": "markdown",
      "metadata": {
        "id": "X0TFoq8ir00r"
      },
      "source": [
        "セル(テキストによる説明文)を追加するときは　+ テキスト\n",
        "\n",
        "\n",
        "![image.png](data:image/png;base64,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)"
      ]
    },
    {
      "cell_type": "markdown",
      "metadata": {
        "id": "wceMIZNgsFB6"
      },
      "source": [
        "テスト"
      ]
    },
    {
      "cell_type": "markdown",
      "metadata": {
        "id": "EyK27LBjsL4p"
      },
      "source": [
        "# 1.説明文の追加について(Markdown方式)"
      ]
    },
    {
      "cell_type": "markdown",
      "metadata": {
        "id": "wjZSCq4XqSe-",
        "tags": []
      },
      "source": [
        "# 1. シャープ１個"
      ]
    },
    {
      "cell_type": "code",
      "execution_count": 6,
      "metadata": {},
      "outputs": [
        {
          "data": {
            "text/plain": [
              "15"
            ]
          },
          "execution_count": 6,
          "metadata": {},
          "output_type": "execute_result"
        }
      ],
      "source": [
        "3*5"
      ]
    },
    {
      "cell_type": "code",
      "execution_count": 7,
      "metadata": {},
      "outputs": [
        {
          "data": {
            "text/plain": [
              "-1"
            ]
          },
          "execution_count": 7,
          "metadata": {},
          "output_type": "execute_result"
        }
      ],
      "source": [
        "4-5"
      ]
    },
    {
      "cell_type": "markdown",
      "metadata": {
        "id": "QMi2tiAFqSe-"
      },
      "source": [
        "## 1.1 シャープ2個\n"
      ]
    },
    {
      "cell_type": "code",
      "execution_count": 8,
      "metadata": {},
      "outputs": [
        {
          "data": {
            "text/plain": [
              "6"
            ]
          },
          "execution_count": 8,
          "metadata": {},
          "output_type": "execute_result"
        }
      ],
      "source": [
        "3*2"
      ]
    },
    {
      "cell_type": "markdown",
      "metadata": {
        "id": "lQcAdXPOqSe-"
      },
      "source": [
        "### 1.1.1 シャープ３個\n"
      ]
    },
    {
      "cell_type": "markdown",
      "metadata": {
        "id": "Kzr6PfD7qSe-"
      },
      "source": [
        "#### 1.1.1.1 シャープ4個"
      ]
    },
    {
      "cell_type": "code",
      "execution_count": null,
      "metadata": {
        "id": "RdbXqJmAupRb"
      },
      "outputs": [],
      "source": []
    },
    {
      "cell_type": "markdown",
      "metadata": {
        "id": "D9x5-OGNup5Q"
      },
      "source": [
        "便利機能\n",
        "\n",
        "\n",
        "*   シャープの数に応じて、目次で章分けできる(クリックで飛べる:Table of contentsともいう)\n",
        "\n",
        "*   \" # から # \"まででコードを折りたためる\n"
      ]
    },
    {
      "cell_type": "code",
      "execution_count": null,
      "metadata": {
        "id": "pjKfUyqpupaN"
      },
      "outputs": [],
      "source": []
    },
    {
      "cell_type": "markdown",
      "metadata": {
        "id": "MoMFD6f7qSe_",
        "tags": []
      },
      "source": [
        "# 2.簡単な計算(復習)"
      ]
    },
    {
      "cell_type": "code",
      "execution_count": 4,
      "metadata": {
        "colab": {
          "base_uri": "https://localhost:8080/"
        },
        "id": "rv29cEDEqSe_",
        "outputId": "e7319f1e-0c6f-416f-d077-5db54b99b70a",
        "tags": []
      },
      "outputs": [
        {
          "data": {
            "text/plain": [
              "8"
            ]
          },
          "execution_count": 4,
          "metadata": {},
          "output_type": "execute_result"
        }
      ],
      "source": [
        "3+5"
      ]
    },
    {
      "cell_type": "code",
      "execution_count": 5,
      "metadata": {
        "colab": {
          "base_uri": "https://localhost:8080/"
        },
        "id": "XIln_JP1qSe_",
        "outputId": "ca2e87b3-fb01-4fbb-982e-2c2349680e20"
      },
      "outputs": [
        {
          "data": {
            "text/plain": [
              "4"
            ]
          },
          "execution_count": 5,
          "metadata": {},
          "output_type": "execute_result"
        }
      ],
      "source": [
        "10-6"
      ]
    },
    {
      "cell_type": "code",
      "execution_count": 6,
      "metadata": {
        "colab": {
          "base_uri": "https://localhost:8080/"
        },
        "id": "DXEYJhhyqSe_",
        "outputId": "be6fe0e8-0971-479c-8684-6756836481eb"
      },
      "outputs": [
        {
          "data": {
            "text/plain": [
              "20"
            ]
          },
          "execution_count": 6,
          "metadata": {},
          "output_type": "execute_result"
        }
      ],
      "source": [
        "4*5"
      ]
    },
    {
      "cell_type": "code",
      "execution_count": 7,
      "metadata": {
        "colab": {
          "base_uri": "https://localhost:8080/"
        },
        "id": "EJSUUhRrqSe_",
        "outputId": "4262c1c0-99a5-48c1-91ff-b1601ea1dca0",
        "tags": []
      },
      "outputs": [
        {
          "data": {
            "text/plain": [
              "1.6666666666666667"
            ]
          },
          "execution_count": 7,
          "metadata": {},
          "output_type": "execute_result"
        }
      ],
      "source": [
        "10/6"
      ]
    },
    {
      "cell_type": "code",
      "execution_count": 7,
      "metadata": {
        "id": "SW5RpFUPqSfA"
      },
      "outputs": [],
      "source": []
    },
    {
      "cell_type": "code",
      "execution_count": 8,
      "metadata": {
        "colab": {
          "base_uri": "https://localhost:8080/"
        },
        "id": "tFoGiMeqqSfA",
        "outputId": "b7cf183d-f403-478e-8952-09ce9327627e"
      },
      "outputs": [
        {
          "data": {
            "text/plain": [
              "8"
            ]
          },
          "execution_count": 8,
          "metadata": {},
          "output_type": "execute_result"
        }
      ],
      "source": [
        "2**3"
      ]
    },
    {
      "cell_type": "code",
      "execution_count": 9,
      "metadata": {
        "colab": {
          "base_uri": "https://localhost:8080/"
        },
        "id": "wRLZRBd8qSfA",
        "outputId": "dc5540e2-e9ec-4a44-d2b5-fff554acbdcc"
      },
      "outputs": [
        {
          "data": {
            "text/plain": [
              "2"
            ]
          },
          "execution_count": 9,
          "metadata": {},
          "output_type": "execute_result"
        }
      ],
      "source": [
        "100 // 45"
      ]
    },
    {
      "cell_type": "code",
      "execution_count": 10,
      "metadata": {
        "colab": {
          "base_uri": "https://localhost:8080/"
        },
        "id": "gmMwJljLqSfA",
        "outputId": "6ec915e9-cb76-4b49-d1fb-a839b30f20eb"
      },
      "outputs": [
        {
          "data": {
            "text/plain": [
              "1"
            ]
          },
          "execution_count": 10,
          "metadata": {},
          "output_type": "execute_result"
        }
      ],
      "source": [
        "100 % 3"
      ]
    },
    {
      "cell_type": "markdown",
      "metadata": {
        "id": "aJp2-BC2qSfA"
      },
      "source": [
        "## 2.1 簡単な演習問題\n",
        " a) 3500×3912は ?\n",
        " b) 209991/3422は ?\n",
        " c) 2900320を3911 で割った時のあまりは ?"
      ]
    },
    {
      "cell_type": "code",
      "execution_count": 10,
      "metadata": {
        "id": "KclTAaL8qSfA"
      },
      "outputs": [],
      "source": []
    },
    {
      "cell_type": "code",
      "execution_count": 10,
      "metadata": {
        "id": "uhCNmu4mu8lr"
      },
      "outputs": [],
      "source": []
    },
    {
      "cell_type": "code",
      "execution_count": 10,
      "metadata": {
        "id": "pNbQFIa0qSfA"
      },
      "outputs": [],
      "source": []
    },
    {
      "cell_type": "markdown",
      "metadata": {
        "id": "oIODbGg2vm3p"
      },
      "source": [
        "# 3.文字列と変数"
      ]
    },
    {
      "cell_type": "markdown",
      "metadata": {
        "id": "iddJFNuoqSfA"
      },
      "source": [
        "## 3.1 数字と文字列の区別"
      ]
    },
    {
      "cell_type": "markdown",
      "metadata": {
        "id": "VVSRI40EqSfA"
      },
      "source": [
        "文字は\" \" もしくは ' 'でくくってあげるルールがあります !"
      ]
    },
    {
      "cell_type": "code",
      "execution_count": 11,
      "metadata": {
        "colab": {
          "base_uri": "https://localhost:8080/",
          "height": 141
        },
        "id": "ezX4qs6yqSfA",
        "outputId": "278b4616-d358-4457-cf4a-77c6dc059efd"
      },
      "outputs": [
        {
          "ename": "NameError",
          "evalue": "name 'chumajin' is not defined",
          "output_type": "error",
          "traceback": [
            "\u001b[0;31m---------------------------------------------------------------------------\u001b[0m",
            "\u001b[0;31mNameError\u001b[0m                                 Traceback (most recent call last)",
            "\u001b[0;32m<ipython-input-11-b2cb7cab85bc>\u001b[0m in \u001b[0;36m<cell line: 0>\u001b[0;34m()\u001b[0m\n\u001b[0;32m----> 1\u001b[0;31m \u001b[0mchumajin\u001b[0m\u001b[0;34m\u001b[0m\u001b[0;34m\u001b[0m\u001b[0m\n\u001b[0m",
            "\u001b[0;31mNameError\u001b[0m: name 'chumajin' is not defined"
          ]
        }
      ],
      "source": [
        "chumajin # 私の名前が中　真人なので、chumajinです"
      ]
    },
    {
      "cell_type": "code",
      "execution_count": 12,
      "metadata": {
        "colab": {
          "base_uri": "https://localhost:8080/",
          "height": 35
        },
        "id": "7W1r1BwLqSfA",
        "outputId": "a911fbe1-b058-4158-dd4e-d4717a3ab938"
      },
      "outputs": [
        {
          "data": {
            "application/vnd.google.colaboratory.intrinsic+json": {
              "type": "string"
            },
            "text/plain": [
              "'chumajin'"
            ]
          },
          "execution_count": 12,
          "metadata": {},
          "output_type": "execute_result"
        }
      ],
      "source": [
        "\"chumajin\""
      ]
    },
    {
      "cell_type": "code",
      "execution_count": 13,
      "metadata": {
        "colab": {
          "base_uri": "https://localhost:8080/",
          "height": 35
        },
        "id": "TgS74SVkqSfA",
        "outputId": "9cc18157-c7d7-47df-e04a-6d51b3bdd568"
      },
      "outputs": [
        {
          "data": {
            "application/vnd.google.colaboratory.intrinsic+json": {
              "type": "string"
            },
            "text/plain": [
              "'chumajin'"
            ]
          },
          "execution_count": 13,
          "metadata": {},
          "output_type": "execute_result"
        }
      ],
      "source": [
        "'chumajin'"
      ]
    },
    {
      "cell_type": "code",
      "execution_count": null,
      "metadata": {
        "id": "oOJCEdTqqSfB"
      },
      "outputs": [],
      "source": []
    },
    {
      "cell_type": "code",
      "execution_count": 15,
      "metadata": {
        "colab": {
          "base_uri": "https://localhost:8080/"
        },
        "id": "EkvtZYXJqSfB",
        "outputId": "95bb6fb0-1ffb-4105-8b16-ea1c5ac46f21"
      },
      "outputs": [
        {
          "data": {
            "text/plain": [
              "3"
            ]
          },
          "execution_count": 15,
          "metadata": {},
          "output_type": "execute_result"
        }
      ],
      "source": [
        "3 # \" \" や ' ' がないと、数字は数字として認識"
      ]
    },
    {
      "cell_type": "code",
      "execution_count": 16,
      "metadata": {
        "colab": {
          "base_uri": "https://localhost:8080/",
          "height": 35
        },
        "id": "UUlgcycIqSfB",
        "outputId": "fa8bf568-0ab1-4121-f612-3bd895f0ae45"
      },
      "outputs": [
        {
          "data": {
            "application/vnd.google.colaboratory.intrinsic+json": {
              "type": "string"
            },
            "text/plain": [
              "'3'"
            ]
          },
          "execution_count": 16,
          "metadata": {},
          "output_type": "execute_result"
        }
      ],
      "source": [
        "\"3\" # 3という文字になる"
      ]
    },
    {
      "cell_type": "code",
      "execution_count": null,
      "metadata": {
        "id": "n5jiIgaiqSfB"
      },
      "outputs": [],
      "source": []
    },
    {
      "cell_type": "markdown",
      "metadata": {
        "id": "BSUBANCgqSfB"
      },
      "source": [
        "## 3.2 変数"
      ]
    },
    {
      "cell_type": "markdown",
      "metadata": {
        "id": "w_5IQvhrqSfB"
      },
      "source": [
        "1回1回文字入れたりすると汚いから適当な文字(なんでも良いが前と重複しないように注意)で置き換えて使います。\n",
        "例えば、以下の数字を何回もプログラムで使うとする。\n",
        "100493049320503290853092"
      ]
    },
    {
      "cell_type": "code",
      "execution_count": 17,
      "metadata": {
        "colab": {
          "base_uri": "https://localhost:8080/"
        },
        "id": "pSB_ATCWqSfB",
        "outputId": "ad3065e6-1b8b-4fd2-c8e5-58c36ac36995"
      },
      "outputs": [
        {
          "data": {
            "text/plain": [
              "100493049320503290853092"
            ]
          },
          "execution_count": 17,
          "metadata": {},
          "output_type": "execute_result"
        }
      ],
      "source": [
        "100493049320503290853092"
      ]
    },
    {
      "cell_type": "code",
      "execution_count": 17,
      "metadata": {
        "id": "zBMoSIXlqSfC"
      },
      "outputs": [],
      "source": []
    },
    {
      "cell_type": "code",
      "execution_count": 18,
      "metadata": {
        "colab": {
          "base_uri": "https://localhost:8080/"
        },
        "id": "HcFPBmX-qSfC",
        "outputId": "598d3729-f158-4b7e-8d40-0a892f963dd9"
      },
      "outputs": [
        {
          "data": {
            "text/plain": [
              "100493049320503290853192"
            ]
          },
          "execution_count": 18,
          "metadata": {},
          "output_type": "execute_result"
        }
      ],
      "source": [
        "100493049320503290853092 + 100"
      ]
    },
    {
      "cell_type": "code",
      "execution_count": 18,
      "metadata": {
        "id": "aJffqVG2qSfC"
      },
      "outputs": [],
      "source": []
    },
    {
      "cell_type": "markdown",
      "metadata": {
        "id": "ZiS7XK86qSfC"
      },
      "source": [
        "毎回入力します ?\n",
        "→　長くて間違えちゃうかもしれないし、コードが汚くなるので、なにか文字で置き換えてあげる(置き換えたものを変数といいます)。"
      ]
    },
    {
      "cell_type": "code",
      "execution_count": 20,
      "metadata": {
        "id": "r902AnHyqSfC"
      },
      "outputs": [],
      "source": [
        "tmp = 100493049320503290853092"
      ]
    },
    {
      "cell_type": "code",
      "execution_count": 21,
      "metadata": {
        "colab": {
          "base_uri": "https://localhost:8080/"
        },
        "id": "Ny3qbqdwv65U",
        "outputId": "96a2d200-c9b6-48a2-822b-ab74a845a5e4"
      },
      "outputs": [
        {
          "data": {
            "text/plain": [
              "100493049320503290853092"
            ]
          },
          "execution_count": 21,
          "metadata": {},
          "output_type": "execute_result"
        }
      ],
      "source": [
        "tmp"
      ]
    },
    {
      "cell_type": "markdown",
      "metadata": {
        "id": "7RqEhDyJqSfC"
      },
      "source": [
        "ちなみに、他言語からきた人はexcelなどはdim tmp as integerとかやらないとダメでしたが、自動判別してくれるのでpythonは不要です。"
      ]
    },
    {
      "cell_type": "code",
      "execution_count": 22,
      "metadata": {
        "colab": {
          "base_uri": "https://localhost:8080/"
        },
        "id": "Pek_x5BZqSfC",
        "outputId": "6d57323f-8b10-44ef-e4ad-279b6107a9e0"
      },
      "outputs": [
        {
          "data": {
            "text/plain": [
              "100493049320503290853192"
            ]
          },
          "execution_count": 22,
          "metadata": {},
          "output_type": "execute_result"
        }
      ],
      "source": [
        "tmp + 100"
      ]
    },
    {
      "cell_type": "code",
      "execution_count": null,
      "metadata": {
        "id": "wupALlbVqSfC"
      },
      "outputs": [],
      "source": []
    },
    {
      "cell_type": "markdown",
      "metadata": {
        "id": "FrqYji5JqSfC"
      },
      "source": [
        "文字列も同様です。"
      ]
    },
    {
      "cell_type": "code",
      "execution_count": 23,
      "metadata": {
        "id": "AkhjojwjqSfC"
      },
      "outputs": [],
      "source": [
        "tmpmoji = \"jalfjaljflajljflajgioaujorjaojgja\""
      ]
    },
    {
      "cell_type": "code",
      "execution_count": 24,
      "metadata": {
        "colab": {
          "base_uri": "https://localhost:8080/",
          "height": 35
        },
        "id": "4ayj4HEjqSfC",
        "outputId": "267f007c-397d-4136-86a6-9fa6791e23df"
      },
      "outputs": [
        {
          "data": {
            "application/vnd.google.colaboratory.intrinsic+json": {
              "type": "string"
            },
            "text/plain": [
              "'jalfjaljflajljflajgioaujorjaojgja'"
            ]
          },
          "execution_count": 24,
          "metadata": {},
          "output_type": "execute_result"
        }
      ],
      "source": [
        "tmpmoji"
      ]
    },
    {
      "cell_type": "code",
      "execution_count": 25,
      "metadata": {
        "colab": {
          "base_uri": "https://localhost:8080/"
        },
        "id": "oJooyGTFqSfC",
        "outputId": "900d42ee-cf2a-4027-debe-b9c36c05e615"
      },
      "outputs": [
        {
          "data": {
            "text/plain": [
              "str"
            ]
          },
          "execution_count": 25,
          "metadata": {},
          "output_type": "execute_result"
        }
      ],
      "source": [
        "type(tmpmoji) # これもVBAなら、 dim tmpmoji as String とか打たなきゃいけなかった。。。"
      ]
    },
    {
      "cell_type": "code",
      "execution_count": null,
      "metadata": {
        "id": "IaqstZiRqSfC"
      },
      "outputs": [],
      "source": []
    },
    {
      "cell_type": "markdown",
      "metadata": {
        "id": "U-MkoiMoqSfC"
      },
      "source": [
        "# 4.List(配列)"
      ]
    },
    {
      "cell_type": "markdown",
      "metadata": {
        "id": "18zBKBs4qSfD"
      },
      "source": [
        "グループ名をつけて、その中を番号付けするイメージ。\n",
        "\n",
        "\n",
        "ex ) sengoku というグループがあったとします。\n",
        "\n",
        "メンバー\n",
        "\n",
        "*   織田信長さん\n",
        "*   豊臣秀吉さん\n",
        "*   徳川家康さん\n",
        "*   武田信玄さん\n",
        "*   上杉謙信さん\n",
        "\n",
        "\n",
        "これに出席番号をつけるイメージ\n",
        "(なんか好きなアイドルグループでもOKです)"
      ]
    },
    {
      "cell_type": "code",
      "execution_count": 52,
      "metadata": {
        "id": "IJ2cB-uoqSfD"
      },
      "outputs": [],
      "source": [
        "sengoku = [\"oda\",\"toyotomi\",\"tokugawa\",\"takeda\",\"uesugi\"]"
      ]
    },
    {
      "cell_type": "code",
      "execution_count": 53,
      "metadata": {
        "colab": {
          "base_uri": "https://localhost:8080/"
        },
        "id": "w1YJ0pKOyozo",
        "outputId": "67e03830-ccf7-4625-85c6-1b5c027206bd"
      },
      "outputs": [
        {
          "data": {
            "text/plain": [
              "['oda', 'toyotomi', 'tokugawa', 'takeda', 'uesugi']"
            ]
          },
          "execution_count": 53,
          "metadata": {},
          "output_type": "execute_result"
        }
      ],
      "source": [
        "sengoku"
      ]
    },
    {
      "cell_type": "code",
      "execution_count": 54,
      "metadata": {
        "colab": {
          "base_uri": "https://localhost:8080/",
          "height": 35
        },
        "id": "WQZ-xeK7qSfD",
        "outputId": "898b5d2e-e5d5-40e7-d121-72fcdd1311ed"
      },
      "outputs": [
        {
          "data": {
            "application/vnd.google.colaboratory.intrinsic+json": {
              "type": "string"
            },
            "text/plain": [
              "'oda'"
            ]
          },
          "execution_count": 54,
          "metadata": {},
          "output_type": "execute_result"
        }
      ],
      "source": [
        "sengoku[0]"
      ]
    },
    {
      "cell_type": "code",
      "execution_count": 55,
      "metadata": {
        "colab": {
          "base_uri": "https://localhost:8080/",
          "height": 35
        },
        "id": "oWFsIlwbqSfD",
        "outputId": "9163e463-cf65-4312-bb08-0edfc6accb35"
      },
      "outputs": [
        {
          "data": {
            "application/vnd.google.colaboratory.intrinsic+json": {
              "type": "string"
            },
            "text/plain": [
              "'tokugawa'"
            ]
          },
          "execution_count": 55,
          "metadata": {},
          "output_type": "execute_result"
        }
      ],
      "source": [
        "sengoku[2]"
      ]
    },
    {
      "cell_type": "code",
      "execution_count": 56,
      "metadata": {
        "colab": {
          "base_uri": "https://localhost:8080/",
          "height": 35
        },
        "id": "C9FFoGmyqSfD",
        "outputId": "aa2ccfa6-fe85-4826-df79-0a0d3b357d7f"
      },
      "outputs": [
        {
          "data": {
            "application/vnd.google.colaboratory.intrinsic+json": {
              "type": "string"
            },
            "text/plain": [
              "'uesugi'"
            ]
          },
          "execution_count": 56,
          "metadata": {},
          "output_type": "execute_result"
        }
      ],
      "source": [
        "# 後ろからも数えられる\n",
        "sengoku[-1]"
      ]
    },
    {
      "cell_type": "code",
      "execution_count": 56,
      "metadata": {
        "id": "bnfGBTWAqSfD"
      },
      "outputs": [],
      "source": []
    },
    {
      "cell_type": "code",
      "execution_count": 57,
      "metadata": {
        "id": "spVh9FbFqSfD"
      },
      "outputs": [],
      "source": [
        "# 新たに加えたいときは、appendを使う。\n",
        "sengoku.append(\"akechi\")"
      ]
    },
    {
      "cell_type": "code",
      "execution_count": 58,
      "metadata": {
        "colab": {
          "base_uri": "https://localhost:8080/"
        },
        "id": "QUgq6vZrqSfD",
        "outputId": "5fb2a76b-dc22-4f4a-b525-85fadf069f58"
      },
      "outputs": [
        {
          "data": {
            "text/plain": [
              "['oda', 'toyotomi', 'tokugawa', 'takeda', 'uesugi', 'akechi']"
            ]
          },
          "execution_count": 58,
          "metadata": {},
          "output_type": "execute_result"
        }
      ],
      "source": [
        "sengoku #akechiさんが加わる"
      ]
    },
    {
      "cell_type": "markdown",
      "metadata": {
        "id": "LLnf2XTYqSfD"
      },
      "source": [
        "## 4.1 演習 : 自分の周りのグループや家族の人のリストを作成してみましょう。\n",
        "\n",
        "できたら新人の子を追加してみましょう。"
      ]
    },
    {
      "cell_type": "code",
      "execution_count": 74,
      "metadata": {
        "id": "OOHDtPg8qSfD"
      },
      "outputs": [],
      "source": [
        "# chatGPTで作った面白い例\n",
        "strange_rangers = [\n",
        "    \"走ると必ず転ぶレッド\",\n",
        "    \"謎の呪文を唱えるブルー\",\n",
        "    \"徹夜続きでいつも寝不足のグリーン\"\n",
        "]"
      ]
    },
    {
      "cell_type": "code",
      "execution_count": 60,
      "metadata": {
        "colab": {
          "base_uri": "https://localhost:8080/",
          "height": 35
        },
        "id": "zASeqiXaqSfD",
        "outputId": "06ce687c-be4e-4dca-cef2-fc710d5bc30c"
      },
      "outputs": [
        {
          "data": {
            "application/vnd.google.colaboratory.intrinsic+json": {
              "type": "string"
            },
            "text/plain": [
              "'走ると必ず転ぶレッド'"
            ]
          },
          "execution_count": 60,
          "metadata": {},
          "output_type": "execute_result"
        }
      ],
      "source": [
        "strange_rangers[0]"
      ]
    },
    {
      "cell_type": "code",
      "execution_count": 61,
      "metadata": {
        "colab": {
          "base_uri": "https://localhost:8080/",
          "height": 35
        },
        "id": "_ujKpjbwqSfD",
        "outputId": "3b1c369f-1440-4e31-8b1b-33940daef6c7"
      },
      "outputs": [
        {
          "data": {
            "application/vnd.google.colaboratory.intrinsic+json": {
              "type": "string"
            },
            "text/plain": [
              "'徹夜続きでいつも寝不足のグリーン'"
            ]
          },
          "execution_count": 61,
          "metadata": {},
          "output_type": "execute_result"
        }
      ],
      "source": [
        "strange_rangers[-1]"
      ]
    },
    {
      "cell_type": "code",
      "execution_count": 62,
      "metadata": {
        "id": "aGcfp3_vzHnN"
      },
      "outputs": [],
      "source": [
        "strange_rangers.append(\"SNS中毒のピンク\")"
      ]
    },
    {
      "cell_type": "code",
      "execution_count": 63,
      "metadata": {
        "colab": {
          "base_uri": "https://localhost:8080/"
        },
        "id": "KpTqWWmFzHq2",
        "outputId": "0b567fa8-36e4-4bfe-8939-e50ee1795897"
      },
      "outputs": [
        {
          "data": {
            "text/plain": [
              "['走ると必ず転ぶレッド', '謎の呪文を唱えるブルー', '徹夜続きでいつも寝不足のグリーン', 'SNS中毒のピンク']"
            ]
          },
          "execution_count": 63,
          "metadata": {},
          "output_type": "execute_result"
        }
      ],
      "source": [
        "strange_rangers"
      ]
    },
    {
      "cell_type": "markdown",
      "metadata": {
        "id": "FjXlpXuqqSfD"
      },
      "source": [
        "## 4.2 複数選択を覚えましょう(これから先よく出てくるので、重要です)"
      ]
    },
    {
      "cell_type": "code",
      "execution_count": 64,
      "metadata": {
        "colab": {
          "base_uri": "https://localhost:8080/"
        },
        "id": "IS_I_V7AqSfD",
        "outputId": "e9945543-fed5-4cff-ef88-bf03d50e7671"
      },
      "outputs": [
        {
          "data": {
            "text/plain": [
              "['oda', 'toyotomi', 'tokugawa', 'takeda', 'uesugi', 'akechi']"
            ]
          },
          "execution_count": 64,
          "metadata": {},
          "output_type": "execute_result"
        }
      ],
      "source": [
        "sengoku"
      ]
    },
    {
      "cell_type": "code",
      "execution_count": 65,
      "metadata": {
        "colab": {
          "base_uri": "https://localhost:8080/",
          "height": 35
        },
        "id": "0S0kp0eXqSfE",
        "outputId": "8603f8b2-3b7e-4e18-bab2-fc9432b5fa2f"
      },
      "outputs": [
        {
          "data": {
            "application/vnd.google.colaboratory.intrinsic+json": {
              "type": "string"
            },
            "text/plain": [
              "'oda'"
            ]
          },
          "execution_count": 65,
          "metadata": {},
          "output_type": "execute_result"
        }
      ],
      "source": [
        "sengoku[0]"
      ]
    },
    {
      "cell_type": "code",
      "execution_count": 66,
      "metadata": {
        "colab": {
          "base_uri": "https://localhost:8080/"
        },
        "id": "-sqmhSA2qSfE",
        "outputId": "0a0573cd-178f-4883-96cb-d3291e94f7e1"
      },
      "outputs": [
        {
          "data": {
            "text/plain": [
              "['oda', 'toyotomi', 'tokugawa']"
            ]
          },
          "execution_count": 66,
          "metadata": {},
          "output_type": "execute_result"
        }
      ],
      "source": [
        "sengoku[0:3]"
      ]
    },
    {
      "cell_type": "code",
      "execution_count": 67,
      "metadata": {
        "colab": {
          "base_uri": "https://localhost:8080/"
        },
        "id": "7id3H_Q4qSfE",
        "outputId": "d4409ce3-0585-46d9-ec32-7d397e70705f"
      },
      "outputs": [
        {
          "data": {
            "text/plain": [
              "['toyotomi', 'tokugawa']"
            ]
          },
          "execution_count": 67,
          "metadata": {},
          "output_type": "execute_result"
        }
      ],
      "source": [
        "sengoku[1:3]"
      ]
    },
    {
      "cell_type": "markdown",
      "metadata": {
        "id": "xWgzMFxaqSfE"
      },
      "source": [
        "特殊な書き方 最初からの場合は省略できる\n"
      ]
    },
    {
      "cell_type": "code",
      "execution_count": 68,
      "metadata": {
        "colab": {
          "base_uri": "https://localhost:8080/"
        },
        "id": "ioiRBaIrqSfE",
        "outputId": "ac482952-e62f-4acb-94c3-951144559c4f"
      },
      "outputs": [
        {
          "data": {
            "text/plain": [
              "['oda', 'toyotomi', 'tokugawa']"
            ]
          },
          "execution_count": 68,
          "metadata": {},
          "output_type": "execute_result"
        }
      ],
      "source": [
        "sengoku[:3]"
      ]
    },
    {
      "cell_type": "markdown",
      "metadata": {
        "id": "g4NnBcoHqSfE"
      },
      "source": [
        "最後まで　も同様に省略できる"
      ]
    },
    {
      "cell_type": "code",
      "execution_count": 71,
      "metadata": {
        "colab": {
          "base_uri": "https://localhost:8080/"
        },
        "id": "dtFnzE-zqSfE",
        "outputId": "76b7e1e4-5aae-4a4f-98d9-0b37f7dd204b"
      },
      "outputs": [
        {
          "data": {
            "text/plain": [
              "['toyotomi', 'tokugawa', 'takeda', 'uesugi', 'akechi']"
            ]
          },
          "execution_count": 71,
          "metadata": {},
          "output_type": "execute_result"
        }
      ],
      "source": [
        "sengoku[1:6]"
      ]
    },
    {
      "cell_type": "code",
      "execution_count": 72,
      "metadata": {
        "colab": {
          "base_uri": "https://localhost:8080/"
        },
        "id": "CuvhhFIDqSfE",
        "outputId": "64ad054a-4660-43bd-8f3a-7aff8477bf98"
      },
      "outputs": [
        {
          "data": {
            "text/plain": [
              "['toyotomi', 'tokugawa', 'takeda', 'uesugi', 'akechi']"
            ]
          },
          "execution_count": 72,
          "metadata": {},
          "output_type": "execute_result"
        }
      ],
      "source": [
        "sengoku[1:]"
      ]
    },
    {
      "cell_type": "markdown",
      "metadata": {
        "id": "E6rcsbcWqSfE"
      },
      "source": [
        "後で出てくるので、先にやっとくと・・・最初から最後まで"
      ]
    },
    {
      "cell_type": "code",
      "execution_count": 73,
      "metadata": {
        "colab": {
          "base_uri": "https://localhost:8080/"
        },
        "id": "_WyNJX8AqSfE",
        "outputId": "a1f37e3e-27ff-43d4-8ebc-ea0742af7ae9"
      },
      "outputs": [
        {
          "data": {
            "text/plain": [
              "['oda', 'toyotomi', 'tokugawa', 'takeda', 'uesugi', 'akechi']"
            ]
          },
          "execution_count": 73,
          "metadata": {},
          "output_type": "execute_result"
        }
      ],
      "source": [
        "sengoku[:]"
      ]
    },
    {
      "cell_type": "markdown",
      "metadata": {
        "id": "bTjaZqHdqSfF"
      },
      "source": [
        "# 5.捕捉 : タプル、辞書型など他にもあるが、初心者はまだ覚える必要なし"
      ]
    },
    {
      "cell_type": "code",
      "execution_count": 75,
      "metadata": {
        "id": "A6jnbNmwqSfF"
      },
      "outputs": [],
      "source": [
        "# タプル 変更不可\n",
        "mukashibanashi = (\"momotaro\",\"urashima\",\"kintaro\")"
      ]
    },
    {
      "cell_type": "code",
      "execution_count": 77,
      "metadata": {
        "id": "4fC-EovZqSfF"
      },
      "outputs": [],
      "source": [
        "# 辞書型\n",
        "history_dic = {\"sengoku\":[\"oda\",\"toyotomi\"],\"shinsengumi\":[\"hijikata\",\"kondo\"]}"
      ]
    },
    {
      "cell_type": "code",
      "execution_count": 79,
      "metadata": {
        "colab": {
          "base_uri": "https://localhost:8080/"
        },
        "id": "9-TpzlQuqSfF",
        "outputId": "463c98c2-ac6b-4404-835c-be5a3d34e328"
      },
      "outputs": [
        {
          "data": {
            "text/plain": [
              "['oda', 'toyotomi']"
            ]
          },
          "execution_count": 79,
          "metadata": {},
          "output_type": "execute_result"
        }
      ],
      "source": [
        "history_dic[\"sengoku\"]"
      ]
    }
  ],
  "metadata": {
    "colab": {
      "provenance": [],
      "toc_visible": true
    },
    "kernelspec": {
      "display_name": ".venv",
      "language": "python",
      "name": "python3"
    },
    "language_info": {
      "codemirror_mode": {
        "name": "ipython",
        "version": 3
      },
      "file_extension": ".py",
      "mimetype": "text/x-python",
      "name": "python",
      "nbconvert_exporter": "python",
      "pygments_lexer": "ipython3",
      "version": "3.13.2"
    },
    "toc-autonumbering": true
  },
  "nbformat": 4,
  "nbformat_minor": 0
}
