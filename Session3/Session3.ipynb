{
  "cells": [
    {
      "cell_type": "markdown",
      "metadata": {},
      "source": [
        "お手本コード\n",
        "\n",
        "[![Open In Colab](https://colab.research.google.com/assets/colab-badge.svg)](http://colab.research.google.com/github/chumajin-mlcat/udemy-pythonbeginner/blob/main/Session3/Session3.ipynb)"
      ]
    },
    {
      "cell_type": "markdown",
      "metadata": {},
      "source": [
        "写経用のnotebook\n",
        "\n",
        "[![Open In Colab](https://colab.research.google.com/assets/colab-badge.svg)](http://colab.research.google.com/github/chumajin-mlcat/udemy-pythonbeginner/blob/main/blank.ipynb)"
      ]
    },
    {
      "cell_type": "markdown",
      "metadata": {
        "id": "MLCa7UfsR46g"
      },
      "source": [
        "# Session3\n",
        "1.List(配列)の簡単な復習\n",
        "\n",
        "\n",
        "突き詰めるとプログラミングってfor文とif文の組み合わせがかなりある\n",
        "  \n",
        "  \n",
        "2.for文\n",
        "\n",
        "\n",
        "3.if文\n",
        "\n",
        "\n",
        "4.演習 (正答率40%くらいの問題に挑戦してもらいます)\n",
        "\n",
        "\n",
        "5.演習の結果を使ってフォルダ内の画像を表示"
      ]
    },
    {
      "cell_type": "markdown",
      "metadata": {
        "id": "i73ltA3KR46h"
      },
      "source": [
        "# 1.List(配列)の簡単な復習\n",
        "\n",
        "グループ名をつけて、その中を番号付けするイメージ。\n",
        "\n",
        "\n",
        "ex ) sengoku というグループがあったとします。\n",
        "\n",
        "メンバー\n",
        "\n",
        "*   織田信長さん\n",
        "*   豊臣秀吉さん\n",
        "*   徳川家康さん\n",
        "*   武田信玄さん\n",
        "*   上杉謙信さん\n",
        "\n",
        "\n",
        "これに出席番号をつけるイメージ\n",
        "(なんか好きなアイドルグループでもOKです)"
      ]
    },
    {
      "cell_type": "code",
      "execution_count": 1,
      "metadata": {
        "id": "vfLf5dq1R46h"
      },
      "outputs": [],
      "source": [
        "sengoku = [\"oda\",\"toyotomi\",\"tokugawa\",\"takeda\",\"uesugi\"]"
      ]
    },
    {
      "cell_type": "code",
      "execution_count": 2,
      "metadata": {
        "colab": {
          "base_uri": "https://localhost:8080/"
        },
        "id": "W8jS4pj5R46i",
        "outputId": "e5ff366e-2cb0-4fd5-d604-50302b82d6bd"
      },
      "outputs": [
        {
          "data": {
            "text/plain": [
              "['oda', 'toyotomi', 'tokugawa', 'takeda', 'uesugi']"
            ]
          },
          "execution_count": 2,
          "metadata": {},
          "output_type": "execute_result"
        }
      ],
      "source": [
        "sengoku"
      ]
    },
    {
      "cell_type": "code",
      "execution_count": 3,
      "metadata": {
        "colab": {
          "base_uri": "https://localhost:8080/",
          "height": 35
        },
        "id": "vVE2LyicR46i",
        "outputId": "26554c71-cdd3-4489-e96d-0020eb14e940"
      },
      "outputs": [
        {
          "data": {
            "application/vnd.google.colaboratory.intrinsic+json": {
              "type": "string"
            },
            "text/plain": [
              "'tokugawa'"
            ]
          },
          "execution_count": 3,
          "metadata": {},
          "output_type": "execute_result"
        }
      ],
      "source": [
        "sengoku[2]"
      ]
    },
    {
      "cell_type": "code",
      "execution_count": 4,
      "metadata": {
        "colab": {
          "base_uri": "https://localhost:8080/"
        },
        "id": "rf270Ft4R46i",
        "outputId": "41bf7449-8e38-4c8f-eeb6-2da8544ab4d7"
      },
      "outputs": [
        {
          "data": {
            "text/plain": [
              "['oda', 'toyotomi', 'tokugawa', 'takeda', 'uesugi', 'akechi']"
            ]
          },
          "execution_count": 4,
          "metadata": {},
          "output_type": "execute_result"
        }
      ],
      "source": [
        "# 新たに加えたいときは、appendを使う。演習で出ますので、覚えておきましょう\n",
        "sengoku.append(\"akechi\")\n",
        "sengoku"
      ]
    },
    {
      "cell_type": "code",
      "execution_count": 4,
      "metadata": {
        "id": "BlbgwS3UR46i"
      },
      "outputs": [],
      "source": []
    },
    {
      "cell_type": "markdown",
      "metadata": {
        "id": "g3TsuOTWR46i"
      },
      "source": [
        "<span style=\"font-size: 250%; color: red;\">**For文, if文**の基礎を学ぼう</span>\n",
        "\n",
        "<span style=\"font-size: 150%; color: blue;\">突き詰めるとプログラミングってfor文とif文の組み合わせがかなりある</span>\n"
      ]
    },
    {
      "cell_type": "code",
      "execution_count": 4,
      "metadata": {
        "id": "KnID7iISR46i",
        "tags": []
      },
      "outputs": [],
      "source": []
    },
    {
      "cell_type": "markdown",
      "metadata": {
        "id": "hFWgGuNRR46j",
        "toc-hr-collapsed": true
      },
      "source": [
        "# 2. For文\n",
        " for文って**繰り返し同じ作業**をやらせること"
      ]
    },
    {
      "cell_type": "code",
      "execution_count": 5,
      "metadata": {
        "colab": {
          "base_uri": "https://localhost:8080/"
        },
        "id": "ziYRoL-OR46j",
        "outputId": "1776025a-9110-45f4-9943-134989f1da16"
      },
      "outputs": [
        {
          "name": "stdout",
          "output_type": "stream",
          "text": [
            "0\n",
            "1\n",
            "2\n",
            "3\n",
            "4\n"
          ]
        }
      ],
      "source": [
        "print(0)\n",
        "print(1)\n",
        "print(2)\n",
        "print(3)\n",
        "print(4)\n"
      ]
    },
    {
      "cell_type": "markdown",
      "metadata": {
        "id": "UmCD5hJGR46j"
      },
      "source": [
        "**↑正直・・・書くのめんどくさい( ;∀;)　→　for文使いましょう。**"
      ]
    },
    {
      "cell_type": "code",
      "execution_count": 5,
      "metadata": {
        "id": "T4g3eGLIR46j"
      },
      "outputs": [],
      "source": []
    },
    {
      "cell_type": "code",
      "execution_count": 5,
      "metadata": {
        "id": "qpwWr1qVR46j"
      },
      "outputs": [],
      "source": []
    },
    {
      "cell_type": "markdown",
      "metadata": {
        "id": "-upSN5kOR46j"
      },
      "source": [
        "<span style=\"font-size: 250%; color: red;\">**For文2つ覚えましょう**</span>\n",
        "## 2.1 覚えましょう その1 <span style=\"font-size: 200%; color: blue;\">**for a in range()**</span>\n"
      ]
    },
    {
      "cell_type": "code",
      "execution_count": 6,
      "metadata": {
        "colab": {
          "base_uri": "https://localhost:8080/"
        },
        "id": "owzSFntER46j",
        "outputId": "33871d88-1b84-4857-b047-7afa146db64a"
      },
      "outputs": [
        {
          "name": "stdout",
          "output_type": "stream",
          "text": [
            "0\n",
            "1\n",
            "2\n",
            "3\n",
            "4\n"
          ]
        }
      ],
      "source": [
        "for a in range(5):\n",
        "    print(a)"
      ]
    },
    {
      "cell_type": "code",
      "execution_count": null,
      "metadata": {
        "id": "78TKNtdFR46j"
      },
      "outputs": [],
      "source": []
    },
    {
      "cell_type": "code",
      "execution_count": 7,
      "metadata": {
        "colab": {
          "base_uri": "https://localhost:8080/"
        },
        "id": "5wZzDWyMR46j",
        "outputId": "54ee9666-f67b-41c1-fd99-462999e7c294"
      },
      "outputs": [
        {
          "data": {
            "text/plain": [
              "['oda', 'toyotomi', 'tokugawa', 'takeda', 'uesugi', 'akechi']"
            ]
          },
          "execution_count": 7,
          "metadata": {},
          "output_type": "execute_result"
        }
      ],
      "source": [
        "sengoku"
      ]
    },
    {
      "cell_type": "code",
      "execution_count": 8,
      "metadata": {
        "colab": {
          "base_uri": "https://localhost:8080/"
        },
        "id": "aodJXYZaR46j",
        "outputId": "d3e572bf-f0e6-4a73-8937-4488a682eb35"
      },
      "outputs": [
        {
          "name": "stdout",
          "output_type": "stream",
          "text": [
            "oda君\n",
            "toyotomi君\n",
            "tokugawa君\n"
          ]
        }
      ],
      "source": [
        "print(sengoku[0] + \"君\")\n",
        "print(sengoku[1] + \"君\")\n",
        "print(sengoku[2] + \"君\")"
      ]
    },
    {
      "cell_type": "markdown",
      "metadata": {
        "id": "3cqM2b0YR46j"
      },
      "source": [
        "## 【大事!】出席番号のところをfor文で数字を変えて振ることができる"
      ]
    },
    {
      "cell_type": "code",
      "execution_count": 9,
      "metadata": {
        "colab": {
          "base_uri": "https://localhost:8080/"
        },
        "id": "Tl5vgkIJR46j",
        "outputId": "fbe5e5ae-257e-4959-b9c8-9c73d77fbf65"
      },
      "outputs": [
        {
          "name": "stdout",
          "output_type": "stream",
          "text": [
            "oda君\n",
            "toyotomi君\n",
            "tokugawa君\n",
            "takeda君\n",
            "uesugi君\n"
          ]
        }
      ],
      "source": [
        "for a in range(5):\n",
        "    print(sengoku[a] + \"君\")"
      ]
    },
    {
      "cell_type": "code",
      "execution_count": 9,
      "metadata": {
        "id": "ME0p8HkPR46j"
      },
      "outputs": [],
      "source": []
    },
    {
      "cell_type": "markdown",
      "metadata": {
        "id": "L_qjp25VR46k"
      },
      "source": [
        "これだとakechi君が入っていません。"
      ]
    },
    {
      "cell_type": "markdown",
      "metadata": {
        "id": "BuNLiYIyR46k"
      },
      "source": [
        "## 【応用】最初から最後までfor文を回すとき。len(list)を使います\n",
        "len(list)はリストの長さを表す**これもよく使います**"
      ]
    },
    {
      "cell_type": "code",
      "execution_count": 10,
      "metadata": {
        "colab": {
          "base_uri": "https://localhost:8080/"
        },
        "id": "HTo497YzR46k",
        "outputId": "9772043e-ff69-4299-cdaa-be78a09b7f31"
      },
      "outputs": [
        {
          "data": {
            "text/plain": [
              "6"
            ]
          },
          "execution_count": 10,
          "metadata": {},
          "output_type": "execute_result"
        }
      ],
      "source": [
        "len(sengoku) # 6個の要素からできているということ"
      ]
    },
    {
      "cell_type": "code",
      "execution_count": 11,
      "metadata": {
        "colab": {
          "base_uri": "https://localhost:8080/"
        },
        "id": "_2bTzWDlR46k",
        "outputId": "ba1cbe44-04e3-487b-f9c1-b345209203ea"
      },
      "outputs": [
        {
          "name": "stdout",
          "output_type": "stream",
          "text": [
            "oda君\n",
            "toyotomi君\n",
            "tokugawa君\n",
            "takeda君\n",
            "uesugi君\n",
            "akechi君\n"
          ]
        }
      ],
      "source": [
        "for a in range(len(sengoku)):\n",
        "    print(sengoku[a] + \"君\")"
      ]
    },
    {
      "cell_type": "code",
      "execution_count": 11,
      "metadata": {
        "id": "JXbN-eUeR46k"
      },
      "outputs": [],
      "source": []
    },
    {
      "cell_type": "markdown",
      "metadata": {
        "id": "8ogxkNwuR46k"
      },
      "source": [
        "## 2.2 覚えましょう その2 <span style=\"font-size: 200%; color: blue;\">**for a in list**</span>"
      ]
    },
    {
      "cell_type": "code",
      "execution_count": 11,
      "metadata": {
        "id": "bhH6ZBRzR46k"
      },
      "outputs": [],
      "source": []
    },
    {
      "cell_type": "code",
      "execution_count": 12,
      "metadata": {
        "colab": {
          "base_uri": "https://localhost:8080/"
        },
        "id": "G2-DSUYzR46k",
        "outputId": "a0aca2de-fdcb-46ff-f93f-0ead42e355ee"
      },
      "outputs": [
        {
          "data": {
            "text/plain": [
              "['oda', 'toyotomi', 'tokugawa', 'takeda', 'uesugi', 'akechi']"
            ]
          },
          "execution_count": 12,
          "metadata": {},
          "output_type": "execute_result"
        }
      ],
      "source": [
        "sengoku"
      ]
    },
    {
      "cell_type": "code",
      "execution_count": 13,
      "metadata": {
        "colab": {
          "base_uri": "https://localhost:8080/"
        },
        "id": "tJoT5mvKR46k",
        "outputId": "6a9bde42-0470-4fee-e8ac-bb28258183ce"
      },
      "outputs": [
        {
          "name": "stdout",
          "output_type": "stream",
          "text": [
            "oda\n",
            "toyotomi\n",
            "tokugawa\n",
            "takeda\n",
            "uesugi\n",
            "akechi\n"
          ]
        }
      ],
      "source": [
        "for a in sengoku:\n",
        "    print(a)"
      ]
    },
    {
      "cell_type": "markdown",
      "metadata": {
        "id": "AXiN2CZ1R46k"
      },
      "source": [
        "この場合、**無条件にリストの最初から最後まで、出席番号0からaにリストの中身**を入れてくれます。\n",
        "\n",
        "\n",
        "さっきまでは**aが数字だったのに、たいして、今回はリストの中身が文字なので、aが文字に代わっている**ことに注意。"
      ]
    },
    {
      "cell_type": "code",
      "execution_count": 13,
      "metadata": {
        "id": "d2aWwhJIR46k"
      },
      "outputs": [],
      "source": []
    },
    {
      "cell_type": "code",
      "execution_count": 13,
      "metadata": {
        "id": "d4zoCxkNR46k"
      },
      "outputs": [],
      "source": []
    },
    {
      "cell_type": "code",
      "execution_count": 14,
      "metadata": {
        "colab": {
          "base_uri": "https://localhost:8080/"
        },
        "id": "kUtCaI0WR46k",
        "outputId": "c0148869-428e-4eb9-8fd8-c3533957fce1"
      },
      "outputs": [
        {
          "name": "stdout",
          "output_type": "stream",
          "text": [
            "oda君\n",
            "toyotomi君\n",
            "tokugawa君\n",
            "takeda君\n",
            "uesugi君\n",
            "akechi君\n"
          ]
        }
      ],
      "source": [
        "for a in sengoku:\n",
        "    print(a + \"君\")"
      ]
    },
    {
      "cell_type": "code",
      "execution_count": 14,
      "metadata": {
        "id": "H7HkLBLrR46l"
      },
      "outputs": [],
      "source": []
    },
    {
      "cell_type": "markdown",
      "metadata": {
        "id": "r21vv6iDR46l"
      },
      "source": [
        "* 違いを見るためにもう一度さっきfor a in rangeの例"
      ]
    },
    {
      "cell_type": "code",
      "execution_count": 16,
      "metadata": {
        "colab": {
          "base_uri": "https://localhost:8080/"
        },
        "id": "PrZsahhoR46s",
        "outputId": "53ec1e25-9551-43fb-b3ea-c6eaf92a3f9f"
      },
      "outputs": [
        {
          "name": "stdout",
          "output_type": "stream",
          "text": [
            "0\n",
            "oda\n",
            "1\n",
            "toyotomi\n",
            "2\n",
            "tokugawa\n",
            "3\n",
            "takeda\n",
            "4\n",
            "uesugi\n",
            "5\n",
            "akechi\n"
          ]
        }
      ],
      "source": [
        "for a in range(6):\n",
        "    print(a)\n",
        "    print(sengoku[a])"
      ]
    },
    {
      "cell_type": "markdown",
      "metadata": {
        "id": "RtfIpaKWR46s"
      },
      "source": [
        "<span style=\"font-size: 200%; color: red;\">さっきのrangeとやるとaは**数字**をaに入れてくれたが、今回はダイレクトに**リストの中身**をa(この場合は文字列)に入れてくれる。これが違い</span>\n",
        "\n",
        "※　リストの中身は今回はsengokuメンバーの名前で文字列でしたが、数字の場合もあります。"
      ]
    },
    {
      "cell_type": "markdown",
      "metadata": {},
      "source": [
        "# 2.1 空のListからfor文で作る\n",
        "演習で出ます"
      ]
    },
    {
      "cell_type": "code",
      "execution_count": null,
      "metadata": {
        "id": "puY7zKXyR46s"
      },
      "outputs": [],
      "source": [
        "# 数字も可\n",
        "sengoku = [\"oda\",\"toyotomi\",\"tokugawa\",\"takeda\",\"uesugi\"]"
      ]
    },
    {
      "cell_type": "code",
      "execution_count": null,
      "metadata": {
        "id": "6zyRa7LeR46s"
      },
      "outputs": [],
      "source": [
        "test = [] # 空のリスト"
      ]
    },
    {
      "cell_type": "code",
      "execution_count": null,
      "metadata": {},
      "outputs": [],
      "source": [
        "for a in range(10):\n",
        "    print(a)\n",
        "    test.append(a)"
      ]
    },
    {
      "cell_type": "code",
      "execution_count": null,
      "metadata": {},
      "outputs": [],
      "source": [
        "test"
      ]
    },
    {
      "cell_type": "markdown",
      "metadata": {
        "id": "JvqvpZ_fR46s",
        "toc-hr-collapsed": true
      },
      "source": [
        "# 3.if文　もし～だったら、こうして"
      ]
    },
    {
      "cell_type": "code",
      "execution_count": 17,
      "metadata": {
        "colab": {
          "base_uri": "https://localhost:8080/"
        },
        "id": "um-1peQdR46s",
        "outputId": "93a23a0d-ec15-4315-d4f8-452ac310fcd9"
      },
      "outputs": [
        {
          "data": {
            "text/plain": [
              "['oda', 'toyotomi', 'tokugawa', 'takeda', 'uesugi', 'akechi']"
            ]
          },
          "execution_count": 17,
          "metadata": {},
          "output_type": "execute_result"
        }
      ],
      "source": [
        "sengoku"
      ]
    },
    {
      "cell_type": "code",
      "execution_count": 18,
      "metadata": {
        "colab": {
          "base_uri": "https://localhost:8080/"
        },
        "id": "JNPPw775R46s",
        "outputId": "71b03e4f-f56b-4e13-f087-12259c257d1c"
      },
      "outputs": [
        {
          "name": "stdout",
          "output_type": "stream",
          "text": [
            "oda\n",
            "toyotomi\n",
            "tokugawa\n",
            "takeda\n",
            "uesugi\n",
            "akechi\n"
          ]
        }
      ],
      "source": [
        "for a in sengoku:\n",
        "    print(a)"
      ]
    },
    {
      "cell_type": "code",
      "execution_count": 20,
      "metadata": {
        "colab": {
          "base_uri": "https://localhost:8080/"
        },
        "id": "NK_Oq7GoR46s",
        "outputId": "fb6aef73-5e61-4695-d9b4-ffa744e3e529"
      },
      "outputs": [
        {
          "name": "stdout",
          "output_type": "stream",
          "text": [
            "toyotomiさんってすてき\n",
            "tokugawaさんってすてき\n"
          ]
        }
      ],
      "source": [
        "for a in sengoku:\n",
        "    if \"to\" in a: # あとで演習で出ます\n",
        "        print(a + \"さんってすてき\")"
      ]
    },
    {
      "cell_type": "code",
      "execution_count": 21,
      "metadata": {
        "colab": {
          "base_uri": "https://localhost:8080/"
        },
        "id": "GDlgOpkTR46t",
        "outputId": "0a935ff4-91ed-4c80-fe6d-567bb1f4a517"
      },
      "outputs": [
        {
          "name": "stdout",
          "output_type": "stream",
          "text": [
            "takedaさんってかっこいい\n"
          ]
        }
      ],
      "source": [
        "for a in sengoku:\n",
        "    if a==\"takeda\":\n",
        "        print(a + \"さんってかっこいい\")"
      ]
    },
    {
      "cell_type": "code",
      "execution_count": null,
      "metadata": {
        "id": "Y9F1gD87R46t"
      },
      "outputs": [],
      "source": [
        "# 他の条件式の書き方はDay3で教えます。"
      ]
    },
    {
      "cell_type": "markdown",
      "metadata": {
        "id": "tA_GX5zZR46t"
      },
      "source": [
        "## for文の始まりと終わりの文字の開始位置(インデント)で決まります。"
      ]
    },
    {
      "cell_type": "code",
      "execution_count": 23,
      "metadata": {
        "colab": {
          "base_uri": "https://localhost:8080/"
        },
        "id": "NVb-YuHER46t",
        "outputId": "31c7f280-7a19-4ec5-efdb-7c58d062560c"
      },
      "outputs": [
        {
          "name": "stdout",
          "output_type": "stream",
          "text": [
            "takedaさんってかっこいい\n",
            "takeda\n"
          ]
        }
      ],
      "source": [
        "for a in sengoku:\n",
        "    if a==\"takeda\":\n",
        "        print(a + \"さんってかっこいい\")\n",
        "        print(a)"
      ]
    },
    {
      "cell_type": "markdown",
      "metadata": {
        "id": "xmTbbJAXR46t"
      },
      "source": [
        "↑　if文の中でprint(\"test\")が実行"
      ]
    },
    {
      "cell_type": "code",
      "execution_count": 24,
      "metadata": {
        "colab": {
          "base_uri": "https://localhost:8080/"
        },
        "id": "gyrsdv6IR46t",
        "outputId": "02229b0e-4552-4c7b-e99d-a175b7f4b0b6"
      },
      "outputs": [
        {
          "name": "stdout",
          "output_type": "stream",
          "text": [
            "oda\n",
            "toyotomi\n",
            "tokugawa\n",
            "takedaさんってかっこいい\n",
            "takeda\n",
            "uesugi\n",
            "akechi\n"
          ]
        }
      ],
      "source": [
        "for a in sengoku:\n",
        "    if a==\"takeda\":\n",
        "        print(a + \"さんってかっこいい\")\n",
        "    print(a)"
      ]
    },
    {
      "cell_type": "markdown",
      "metadata": {
        "id": "Md7fxJRaR46t"
      },
      "source": [
        "↑ if文の後に、print(a)が実行されています。"
      ]
    },
    {
      "cell_type": "markdown",
      "metadata": {
        "id": "lAQidV1XR46t"
      },
      "source": []
    },
    {
      "cell_type": "code",
      "execution_count": null,
      "metadata": {
        "id": "iCet6UW-R46t"
      },
      "outputs": [],
      "source": []
    },
    {
      "cell_type": "markdown",
      "metadata": {
        "id": "aEssTyHUR46u",
        "toc-hr-collapsed": true
      },
      "source": [
        "# 4. 実践(演習。正答率40%くらいです。)"
      ]
    },
    {
      "cell_type": "code",
      "execution_count": null,
      "metadata": {
        "id": "d4dsXLlYR46u"
      },
      "outputs": [],
      "source": [
        "import os # ファイル操作などが得意なライブラリを読む"
      ]
    },
    {
      "cell_type": "code",
      "execution_count": null,
      "metadata": {
        "id": "tVBE0jenR46u",
        "outputId": "50856d62-553b-4ece-9b02-1fdf6282ff30"
      },
      "outputs": [
        {
          "data": {
            "text/plain": [
              "'./SEM/sample'"
            ]
          },
          "execution_count": 41,
          "metadata": {},
          "output_type": "execute_result"
        }
      ],
      "source": [
        "path = r\"./SEM/sample\"\n",
        "path"
      ]
    },
    {
      "cell_type": "code",
      "execution_count": null,
      "metadata": {
        "id": "BOPufD1sR46u"
      },
      "outputs": [],
      "source": [
        "filename = os.listdir(path)"
      ]
    },
    {
      "cell_type": "code",
      "execution_count": null,
      "metadata": {
        "id": "We4uA9RLR46u",
        "outputId": "28b5b606-8f85-449a-efb0-dd3dce5c7c66"
      },
      "outputs": [
        {
          "data": {
            "text/plain": [
              "['00001.JPG',\n",
              " '00002.JPG',\n",
              " '00003.JPG',\n",
              " '00004.JPG',\n",
              " '00005.JPG',\n",
              " '00006.JPG',\n",
              " '00007.JPG',\n",
              " '00008.JPG',\n",
              " '00009.JPG',\n",
              " '00010.JPG',\n",
              " '00011.JPG',\n",
              " '00012.JPG',\n",
              " 'COMMANDLOG.CSV',\n",
              " 'test.csv',\n",
              " 'Thumbs.db',\n",
              " 'VMResult.CSV',\n",
              " 'VMResult2D.CSV',\n",
              " 'VMResultArr.CSV',\n",
              " 'VMResultNP2D.CSV',\n",
              " 'VMResultNPCR.CSV',\n",
              " 'VMResultNPH.CSV',\n",
              " 'VMResultNPW.CSV',\n",
              " 'VMResultSimple.csv']"
            ]
          },
          "execution_count": 43,
          "metadata": {},
          "output_type": "execute_result"
        }
      ],
      "source": [
        "filename"
      ]
    },
    {
      "cell_type": "code",
      "execution_count": null,
      "metadata": {
        "id": "cjMTOaS9R46u"
      },
      "outputs": [],
      "source": []
    },
    {
      "cell_type": "markdown",
      "metadata": {
        "id": "OKj861TPR46u"
      },
      "source": [
        "## 演習 : jpgfileという名前でfilenameの中のJPGファイルだけを抜き出してリストを作りましょう。↓になっていればOK\n",
        "※　できた人は.CSVだけも作ってみましょう。"
      ]
    },
    {
      "cell_type": "markdown",
      "metadata": {
        "id": "FgIVgLPdR46u"
      },
      "source": [
        "![image.png](attachment:3ccc845d-bffe-43b0-b607-3ddc1519e303.png)"
      ]
    },
    {
      "cell_type": "code",
      "execution_count": null,
      "metadata": {
        "id": "VtxiOaK-R46u"
      },
      "outputs": [],
      "source": []
    },
    {
      "cell_type": "code",
      "execution_count": null,
      "metadata": {
        "id": "i4T559sjR46u"
      },
      "outputs": [],
      "source": []
    },
    {
      "cell_type": "code",
      "execution_count": null,
      "metadata": {
        "id": "HR8lYgeSR46u"
      },
      "outputs": [],
      "source": []
    },
    {
      "cell_type": "code",
      "execution_count": null,
      "metadata": {
        "id": "iFZSEq41R46u"
      },
      "outputs": [],
      "source": []
    },
    {
      "cell_type": "code",
      "execution_count": null,
      "metadata": {
        "id": "p5V0o3Z1R46u"
      },
      "outputs": [],
      "source": []
    },
    {
      "cell_type": "code",
      "execution_count": null,
      "metadata": {
        "id": "bIzER4z2R46u"
      },
      "outputs": [],
      "source": []
    },
    {
      "cell_type": "code",
      "execution_count": null,
      "metadata": {
        "id": "mDimd8CWR46u"
      },
      "outputs": [],
      "source": []
    },
    {
      "cell_type": "code",
      "execution_count": null,
      "metadata": {
        "id": "2aluioo4R46u"
      },
      "outputs": [],
      "source": []
    },
    {
      "cell_type": "code",
      "execution_count": null,
      "metadata": {
        "id": "XHHDnycsR46v"
      },
      "outputs": [],
      "source": []
    },
    {
      "cell_type": "code",
      "execution_count": null,
      "metadata": {
        "id": "w40daYgvR46v"
      },
      "outputs": [],
      "source": []
    },
    {
      "cell_type": "code",
      "execution_count": null,
      "metadata": {
        "id": "dpZEsxqWR46v"
      },
      "outputs": [],
      "source": []
    },
    {
      "cell_type": "code",
      "execution_count": null,
      "metadata": {
        "id": "E4JqrBzSR46v"
      },
      "outputs": [],
      "source": []
    },
    {
      "cell_type": "code",
      "execution_count": null,
      "metadata": {
        "id": "6ywOYgvdR46v"
      },
      "outputs": [],
      "source": []
    },
    {
      "cell_type": "code",
      "execution_count": null,
      "metadata": {
        "id": "xExmcB1MR46v"
      },
      "outputs": [],
      "source": []
    },
    {
      "cell_type": "code",
      "execution_count": null,
      "metadata": {
        "id": "9f1nAqKFR46v"
      },
      "outputs": [],
      "source": []
    },
    {
      "cell_type": "code",
      "execution_count": null,
      "metadata": {
        "id": "FA-5SaLTR46v"
      },
      "outputs": [],
      "source": []
    },
    {
      "cell_type": "code",
      "execution_count": null,
      "metadata": {
        "id": "mSaZFElhR46v"
      },
      "outputs": [],
      "source": [
        "jpgfile=[]"
      ]
    },
    {
      "cell_type": "code",
      "execution_count": null,
      "metadata": {
        "id": "RPq1WofvR46v"
      },
      "outputs": [],
      "source": [
        "for a in filename:\n",
        "    if \".JPG\" in a:\n",
        "        jpgfile.append(a)\n"
      ]
    },
    {
      "cell_type": "code",
      "execution_count": null,
      "metadata": {
        "id": "RcYNdDUCR46v",
        "outputId": "a90867bf-5393-4b4c-fff5-e9b2a396cf6b"
      },
      "outputs": [
        {
          "data": {
            "text/plain": [
              "['00001.JPG',\n",
              " '00002.JPG',\n",
              " '00003.JPG',\n",
              " '00004.JPG',\n",
              " '00005.JPG',\n",
              " '00006.JPG',\n",
              " '00007.JPG',\n",
              " '00008.JPG',\n",
              " '00009.JPG',\n",
              " '00010.JPG',\n",
              " '00011.JPG',\n",
              " '00012.JPG']"
            ]
          },
          "execution_count": 46,
          "metadata": {},
          "output_type": "execute_result"
        }
      ],
      "source": [
        "jpgfile"
      ]
    },
    {
      "cell_type": "markdown",
      "metadata": {
        "id": "jlG6d3c1R46v",
        "tags": [],
        "toc-hr-collapsed": true
      },
      "source": [
        "# 次にこのJPG画像を全部表示することを考える\n",
        "\n",
        "<span style=\"font-size: 200%; color: red;\">**大事なポイント : for文でいきなり全部回すことを考えるのではなく、まず一枚でtryしてみる**</span>\n",
        "\n",
        "## 下準備\n",
        "\n",
        "### ファイル名だけになっていて、画像の場所を言っていないので、画像の場所に置き換えてあげる"
      ]
    },
    {
      "cell_type": "code",
      "execution_count": null,
      "metadata": {
        "id": "wgWOhBz1R46v",
        "outputId": "d314614a-8c4a-4525-d315-9471818de515"
      },
      "outputs": [
        {
          "data": {
            "text/plain": [
              "'./SEM/sample'"
            ]
          },
          "execution_count": 47,
          "metadata": {},
          "output_type": "execute_result"
        }
      ],
      "source": [
        "path"
      ]
    },
    {
      "cell_type": "code",
      "execution_count": null,
      "metadata": {
        "id": "oqgtnv4ER46w",
        "outputId": "f91a913c-058b-4583-fbac-43abe13159e3"
      },
      "outputs": [
        {
          "ename": "TypeError",
          "evalue": "can only concatenate str (not \"list\") to str",
          "output_type": "error",
          "traceback": [
            "\u001b[1;31m---------------------------------------------------------------------------\u001b[0m",
            "\u001b[1;31mTypeError\u001b[0m                                 Traceback (most recent call last)",
            "\u001b[1;32m~\\AppData\\Local\\Temp/ipykernel_7444/2589544430.py\u001b[0m in \u001b[0;36m<module>\u001b[1;34m\u001b[0m\n\u001b[1;32m----> 1\u001b[1;33m \u001b[0mpath\u001b[0m \u001b[1;33m+\u001b[0m \u001b[0mjpgfile\u001b[0m\u001b[1;33m\u001b[0m\u001b[1;33m\u001b[0m\u001b[0m\n\u001b[0m",
            "\u001b[1;31mTypeError\u001b[0m: can only concatenate str (not \"list\") to str"
          ]
        }
      ],
      "source": [
        "path + jpgfile"
      ]
    },
    {
      "cell_type": "markdown",
      "metadata": {
        "id": "BVYN002eR46w"
      },
      "source": [
        "### pathが1つの要素しかないので、jpgfileは12個の要素があるので、足せない・・・ では1つなら ?"
      ]
    },
    {
      "cell_type": "code",
      "execution_count": null,
      "metadata": {
        "id": "oD-DPrufR46w"
      },
      "outputs": [],
      "source": [
        "path + jpgfile[0] # いけそうだが、sample　と 00001.JPGの間に/が足りない"
      ]
    },
    {
      "cell_type": "code",
      "execution_count": null,
      "metadata": {
        "id": "dy6KvBgcR46w"
      },
      "outputs": [],
      "source": [
        "path + \"/\" + jpgfile[0] # バックスラッシュはキーボードで　ひらがなの　”め”　の位置(右下らへん)"
      ]
    },
    {
      "cell_type": "code",
      "execution_count": null,
      "metadata": {
        "id": "zKaLzpL1R46w"
      },
      "outputs": [],
      "source": [
        "# 円マーク使いたい人は二個入れないとダメなんです。\n",
        "path + \"\\\\\" + jpgfile[0]"
      ]
    },
    {
      "cell_type": "code",
      "execution_count": null,
      "metadata": {
        "id": "JTMLASAPR46w"
      },
      "outputs": [],
      "source": []
    },
    {
      "cell_type": "code",
      "execution_count": null,
      "metadata": {
        "id": "SrDVcwdeR46w"
      },
      "outputs": [],
      "source": [
        "tmp = path + \"/\" + jpgfile[0]\n",
        "tmp"
      ]
    },
    {
      "cell_type": "code",
      "execution_count": null,
      "metadata": {
        "id": "-25yHxGKR46w"
      },
      "outputs": [],
      "source": []
    },
    {
      "cell_type": "markdown",
      "metadata": {
        "id": "zCr767LBR46w"
      },
      "source": [
        "## 画像表示\n",
        "### step1 : この1枚をまず表示します。"
      ]
    },
    {
      "cell_type": "code",
      "execution_count": null,
      "metadata": {
        "id": "MPDP9A4nR46w"
      },
      "outputs": [],
      "source": [
        "import cv2\n",
        "import matplotlib.pyplot as plt"
      ]
    },
    {
      "cell_type": "code",
      "execution_count": null,
      "metadata": {
        "id": "_226pUtXR46w"
      },
      "outputs": [],
      "source": [
        "img = cv2.imread(tmp) # 画像の読み込み\n",
        "plt.imshow(img) # 画像の表示"
      ]
    },
    {
      "cell_type": "markdown",
      "metadata": {
        "id": "Rkes4CP-R46w"
      },
      "source": [
        "### step2 : 1つのセルに1枚表示をまとめます"
      ]
    },
    {
      "cell_type": "code",
      "execution_count": null,
      "metadata": {
        "id": "95cYG41zR46x"
      },
      "outputs": [],
      "source": [
        "tmp = path + \"\\\\\" + jpgfile[0]\n",
        "img = cv2.imread(tmp)\n",
        "plt.imshow(img)"
      ]
    },
    {
      "cell_type": "markdown",
      "metadata": {
        "id": "Fw2xfJM0R46x"
      },
      "source": [
        "### step3 : 出席番号をfor文で最初から最後まで振ってあげます。"
      ]
    },
    {
      "cell_type": "code",
      "execution_count": null,
      "metadata": {
        "id": "BRVBcOqoR46x"
      },
      "outputs": [],
      "source": [
        "for a in range(len(jpgfile)):\n",
        "    tmp = path + \"\\\\\" + jpgfile[a]\n",
        "    img = cv2.imread(tmp)\n",
        "    plt.imshow(img)"
      ]
    },
    {
      "cell_type": "markdown",
      "metadata": {
        "id": "3i9JFf9MR46x"
      },
      "source": [
        "↑　実は図が上書きされちゃっていて、1枚しか表示されない"
      ]
    },
    {
      "cell_type": "markdown",
      "metadata": {
        "id": "3OVl7Iw8R46x"
      },
      "source": [
        "### step4 : 微調整する"
      ]
    },
    {
      "cell_type": "code",
      "execution_count": null,
      "metadata": {
        "id": "xrvA-uYER46x"
      },
      "outputs": [],
      "source": [
        "for a in range(len(jpgfile)):\n",
        "    tmp = path + \"\\\\\" + jpgfile[a]\n",
        "    img = cv2.imread(tmp)\n",
        "\n",
        "    plt.figure() # 図を新しく挿入する\n",
        "    plt.imshow(img)"
      ]
    },
    {
      "cell_type": "code",
      "execution_count": null,
      "metadata": {
        "id": "JCAvyi91R46x"
      },
      "outputs": [],
      "source": []
    },
    {
      "cell_type": "code",
      "execution_count": null,
      "metadata": {
        "id": "5RS2KQnDR46x"
      },
      "outputs": [],
      "source": []
    }
  ],
  "metadata": {
    "colab": {
      "provenance": []
    },
    "kernelspec": {
      "display_name": ".venv",
      "language": "python",
      "name": "python3"
    },
    "language_info": {
      "codemirror_mode": {
        "name": "ipython",
        "version": 3
      },
      "file_extension": ".py",
      "mimetype": "text/x-python",
      "name": "python",
      "nbconvert_exporter": "python",
      "pygments_lexer": "ipython3",
      "version": "3.13.2"
    },
    "toc-autonumbering": true
  },
  "nbformat": 4,
  "nbformat_minor": 0
}
