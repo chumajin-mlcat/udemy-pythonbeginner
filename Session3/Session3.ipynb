{
  "cells": [
    {
      "cell_type": "markdown",
      "metadata": {
        "id": "MLCa7UfsR46g"
      },
      "source": [
        "# Session3\n",
        "1.List(配列)の簡単な復習\n",
        "\n",
        "\n",
        "突き詰めるとプログラミングってfor文とif文の組み合わせがかなりある\n",
        "  \n",
        "  \n",
        "2.for文\n",
        "\n",
        "\n",
        "3.if文\n",
        "\n",
        "\n",
        "4.演習 (正答率40%くらいの問題に挑戦してもらいます)\n",
        "\n",
        "\n",
        "5.演習の結果を使ってフォルダ内の画像を表示"
      ]
    },
    {
      "cell_type": "code",
      "execution_count": null,
      "metadata": {
        "id": "-SzQ2S0RR46h"
      },
      "outputs": [],
      "source": []
    },
    {
      "cell_type": "markdown",
      "metadata": {
        "id": "i73ltA3KR46h"
      },
      "source": [
        "# 1.List(配列)の簡単な復習\n",
        "\n",
        "グループ名をつけて、その中を番号付けするイメージ。\n",
        "\n",
        "\n",
        "ex ) sengoku というグループがあったとします。\n",
        "\n",
        "メンバー\n",
        "\n",
        "*   織田信長さん\n",
        "*   豊臣秀吉さん\n",
        "*   徳川家康さん\n",
        "*   武田信玄さん\n",
        "*   上杉謙信さん\n",
        "\n",
        "\n",
        "これに出席番号をつけるイメージ\n",
        "(なんか好きなアイドルグループでもOKです)"
      ]
    },
    {
      "cell_type": "code",
      "execution_count": 1,
      "metadata": {
        "id": "vfLf5dq1R46h"
      },
      "outputs": [],
      "source": [
        "sengoku = [\"oda\",\"toyotomi\",\"tokugawa\",\"takeda\",\"uesugi\"]"
      ]
    },
    {
      "cell_type": "code",
      "execution_count": 2,
      "metadata": {
        "colab": {
          "base_uri": "https://localhost:8080/"
        },
        "id": "W8jS4pj5R46i",
        "outputId": "e5ff366e-2cb0-4fd5-d604-50302b82d6bd"
      },
      "outputs": [
        {
          "output_type": "execute_result",
          "data": {
            "text/plain": [
              "['oda', 'toyotomi', 'tokugawa', 'takeda', 'uesugi']"
            ]
          },
          "metadata": {},
          "execution_count": 2
        }
      ],
      "source": [
        "sengoku"
      ]
    },
    {
      "cell_type": "code",
      "execution_count": 3,
      "metadata": {
        "colab": {
          "base_uri": "https://localhost:8080/",
          "height": 35
        },
        "id": "vVE2LyicR46i",
        "outputId": "26554c71-cdd3-4489-e96d-0020eb14e940"
      },
      "outputs": [
        {
          "output_type": "execute_result",
          "data": {
            "text/plain": [
              "'tokugawa'"
            ],
            "application/vnd.google.colaboratory.intrinsic+json": {
              "type": "string"
            }
          },
          "metadata": {},
          "execution_count": 3
        }
      ],
      "source": [
        "sengoku[2]"
      ]
    },
    {
      "cell_type": "code",
      "execution_count": 4,
      "metadata": {
        "colab": {
          "base_uri": "https://localhost:8080/"
        },
        "id": "rf270Ft4R46i",
        "outputId": "41bf7449-8e38-4c8f-eeb6-2da8544ab4d7"
      },
      "outputs": [
        {
          "output_type": "execute_result",
          "data": {
            "text/plain": [
              "['oda', 'toyotomi', 'tokugawa', 'takeda', 'uesugi', 'akechi']"
            ]
          },
          "metadata": {},
          "execution_count": 4
        }
      ],
      "source": [
        "# 新たに加えたいときは、appendを使う。演習で出ますので、覚えておきましょう\n",
        "sengoku.append(\"akechi\")\n",
        "sengoku"
      ]
    },
    {
      "cell_type": "code",
      "execution_count": 4,
      "metadata": {
        "id": "BlbgwS3UR46i"
      },
      "outputs": [],
      "source": []
    },
    {
      "cell_type": "markdown",
      "metadata": {
        "id": "g3TsuOTWR46i"
      },
      "source": [
        "<span style=\"font-size: 250%; color: red;\">**For文, if文**の基礎を学ぼう</span>\n",
        "\n",
        "<span style=\"font-size: 150%; color: blue;\">突き詰めるとプログラミングってfor文とif文の組み合わせがほとんど</span>\n"
      ]
    },
    {
      "cell_type": "code",
      "execution_count": 4,
      "metadata": {
        "tags": [],
        "id": "KnID7iISR46i"
      },
      "outputs": [],
      "source": []
    },
    {
      "cell_type": "markdown",
      "metadata": {
        "toc-hr-collapsed": true,
        "id": "hFWgGuNRR46j"
      },
      "source": [
        "# 2. For文\n",
        " for文って**繰り返し同じ作業**をやらせること"
      ]
    },
    {
      "cell_type": "code",
      "execution_count": 5,
      "metadata": {
        "colab": {
          "base_uri": "https://localhost:8080/"
        },
        "id": "ziYRoL-OR46j",
        "outputId": "1776025a-9110-45f4-9943-134989f1da16"
      },
      "outputs": [
        {
          "output_type": "stream",
          "name": "stdout",
          "text": [
            "0\n",
            "1\n",
            "2\n",
            "3\n",
            "4\n"
          ]
        }
      ],
      "source": [
        "print(0)\n",
        "print(1)\n",
        "print(2)\n",
        "print(3)\n",
        "print(4)\n"
      ]
    },
    {
      "cell_type": "markdown",
      "metadata": {
        "id": "UmCD5hJGR46j"
      },
      "source": [
        "**↑正直・・・書くのめんどくさい( ;∀;)　→　for文使いましょう。**"
      ]
    },
    {
      "cell_type": "code",
      "execution_count": 5,
      "metadata": {
        "id": "T4g3eGLIR46j"
      },
      "outputs": [],
      "source": []
    },
    {
      "cell_type": "code",
      "execution_count": 5,
      "metadata": {
        "id": "qpwWr1qVR46j"
      },
      "outputs": [],
      "source": []
    },
    {
      "cell_type": "markdown",
      "metadata": {
        "id": "-upSN5kOR46j"
      },
      "source": [
        "<span style=\"font-size: 250%; color: red;\">**For文2つ覚えましょう**</span>\n",
        "## 2.1 覚えましょう その1 <span style=\"font-size: 200%; color: blue;\">**for a in range()**</span>\n"
      ]
    },
    {
      "cell_type": "code",
      "execution_count": 6,
      "metadata": {
        "colab": {
          "base_uri": "https://localhost:8080/"
        },
        "id": "owzSFntER46j",
        "outputId": "33871d88-1b84-4857-b047-7afa146db64a"
      },
      "outputs": [
        {
          "output_type": "stream",
          "name": "stdout",
          "text": [
            "0\n",
            "1\n",
            "2\n",
            "3\n",
            "4\n"
          ]
        }
      ],
      "source": [
        "for a in range(5):\n",
        "    print(a)"
      ]
    },
    {
      "cell_type": "markdown",
      "metadata": {
        "id": "_v5j5tgZR46j"
      },
      "source": [
        "↑はこれの省略版です\n",
        "\n",
        "\n",
        "![image.png](data:image/png;base64,iVBORw0KGgoAAAANSUhEUgAAAKcAAAD3CAYAAAB4mEQbAAAAAXNSR0IArs4c6QAAAARnQU1BAACxjwv8YQUAAAAJcEhZcwAADsMAAA7DAcdvqGQAABVISURBVHhe7d15cFRVvgfw7+1OukMWshASQhADsiW4sOvToCSiKG44wyA47wmjQRHHGhFxHAUSwyIQlmhJKUNwQAc1yENBiSzK9lAMayQYSJQhhOwLZO10um/nvD866aQPWToB4jndv08VVXLOuS3V9a3bd/t2K4wxBkIEpOEHCBEFhZMIi8JJhEXhJMKicBJhUTiJsCicRFgUTiIsCicRllJbW0t3iIiQaM9JhEXhJMKicBJhUTiJsCicRFgUTiIsCicRFoWTCIvCSYR13cJZXl6O8vJyfpiQTrum25cpKSk4fPgwzp49C5PJBADQ6XQIDw9HZGQkJk6cyG9CiMM6Fc7U1FQkJSUhPz+fn7LTu3dvxMTE4M477+SnflcW1YxaQyW6eXaH1s2dn+40xoC1yRqczwVWvFIPdzfruElVUW6oQvdunvBw1wMAzCrweqIGt/QBXnqqHopi/1qkEx/rKSkpiI+PbzeYAJCfn4/4+HikpKTwU7+rotxMbHjnzyjKzeSn2sQYQ0VZASwWlZ8CAKQcBr5PBeJmNQUzp6wI9y9/GfctfRH3LZ2NX/IuAADc3azrvk+1bkeu1qFwpqamYu3atfxwu9auXYvU1FR++HcT3GcwnvvHZgT3GcxPtSkzbR++/OgfUM11/BQuVypYt1WDeTMYfL2tY4wxvP/dVky47U6cWfopHhs+Fom7k2FuCLevNzBvBsO6rRpcrqRdJ69D4UxKSuKHEBkZiYiICH74Ki1tez2oqgkW1cwP2zDGoKrW4+FGWjd3eHfvcV0/0vcdBfQ6YPiQpqOksppKnL70K6IjRkKr0SA6YiR+K87FlZoq25rhQxj0Ouv2xJ7D4UxJSWn1ozwhIQEvv/wyAgMD+Smb/Pz86/bxXlVejHXxk7F7ywqseX08Vr4Whcy0/XbzGxNmIO/CaaxfOg2r50WjIOfsVfNV5cV2Y+viJyP1+81Y9VoUVswZi4tZxwEAdcYabEyYgS0fvoqc305h+d/uxrakN2zbqhZgxwEFD9/D0M16SAkAyL9SilqzCSG+1vclLDDEOl5eYlvTTQ9MHs+w44AC1WIbJh0J5+HDbR8YPfTQQ9iwYQOmTJnCT9m09xodYTRWw1B1Ba+u+B4Tn34TP+z5F+pqm/ZIFouKvf+7BsPveRJ/W/otgvsMstu+JXXGGpz8v62YMW8jxv/hFRz+dgPMJiP0Hl6YMW8jpsxajb4DhuPv7/6IP8Qss21XUa2goBQYxh0l1DML3DRadNPpAAAaRYGl3gKDyf6wYGBfoKDU+jqkicPhPHu2ac/TGjc3N0yfPh3//Oc/MW7cOH7aoddwlF7vhTHR06B1c8fNA0egrrYapYXWkw0AMBoqEdR7AEbdNwX6bj7QaLR227fmnoeeQ4/gm9HrpsEw1lbDVGfgl1zFrALGOkDjwLtpNJtQbqi2G9NorNubWz7PclkOvJ3WC+yN1zEdERoainnz5mHRokV2x6Mmk+m6XahXFAWKYv3n6z28offwRlWzj0tF0SBi1AQoHbhGo/fwQmCvMNvfVVMt6ls5M+8sBYC24d9N2uYU7xJj9Vef9GjdoNN52I3dKD6eDIF+QF5x+5eMvT08EezrbzeWV2zd3sez/e1diUPh9PPzg67huMkReXl5SEhIwIIFC5CRkWEb1+l08PPzs1vbWWZzHaorywAAhupyWMx18O3Rm1/WJby6AfeNAvYf06D5F0oGdQ9APWMorLD+O4sry6HWW+Dbzce2hjHrdqNvZfDq1rQtcTCcABAeHs4PXUVVVWzatAnPP/88Dhw4wE879BqOqreoSP3+3zAaKvHL8d3QeXghoGcfflmXmfBf9TieAVzIaxoL8PJBkI8ffsm1Hgufzc+Gv6cPevr42tZcyAOOZwBPRtFek+dwOCMjI/khO7t27cJzzz2HLVu28FM27b1GR+g9vBAUOhCJbzyItB+3Y+LTb0HfbI90I+g8vFBZXozDKetx5ti3dnND+gGP3wes26rY9p4e7npMj5yID/Ztw+pdn2P1rk8x9a4H4O3hCTTsNddtVfD4fdbtib0O3VufOXPmVdc6IyMjcfnyZbuP75b07t0b69ev54c7paq8GJ++NxuPPROH3mG38tMwm4y4mHUcof1uQzevpr1U8/lL59Nw0y3D4N5wXMpvU1tTgbwL6bh50Cjbmvp6C/5z9ieUFWYjYuQD8PELsnvdimpg5tsa/PkRhifGWd9Wxhj2/nIM+zKOIzpiFB4YOtp2krb9gILNOxWsj6233VUiTToUztTUVMTHx/PDDlm4cOF1ewDEaKjCkb2bMOyeSfAP/P0+yltSbQDSMhWMHmq989OaOhNw7BcFwwYzeFt3pITToXCi4U5RR++vv/TSS/T4HOmwDocTTvDIHJFDp8LZiB42JjfSNYWzucY7P9frOiYh1y2chFxvDl/ndCYW1YzqyrI2nwPtDMaA9z/XYM5KTbsPcZhVYM5KDd7/3P6uEmnikuHsypqG0VyHj3/4FkPemIqU00dsa6mm0T6XDGdX1TTqVDNmb1qJA2dPIsCrO78J1TTaIX04Ra5p6N3c8VHMW3jvv+cgqLv9k0iNqKbROinDKUtNwxFU02idlOGEJDUNR1FNo2XShlPWmkZLqKbRsk6+nb8/WWsaxHHShrM5mWoaLaGaRsukDacMNQ1HUE2jddKGU4aahiOoptE6acMpQ02jPVTTaJt2/vz5cfyg6EzGGqSn7sTYiTPx8LQ3cWf00/Dx7Wmb12i0CAjqi6DQgbaKRXMajRb+PfugR/DN0Gqt9xn5bdzc9QgM6Y/AXv1sa3x7hCAwpD8sqhkDb42E3sPL9pqKAkTcwvDx1xrodcCQpvMqKIqCvgHBGBraDz4N/SEA2HFQwaETCmJn1cOjg9dHXYGUTyVRTcM1SBlO4hqkPeYkzo/CSYRF4STConASYblkOLu6pmE016G48gpMatMg1TTa55Lh7KqaBmMM6w/swPAF0xH1zksYFTsDpy5mAVTTcIhLhrOrahoZ+dnYfuoQdr66CmeWbsaMsY/i7a82oNpofQyPahptkz6cItc0InqHYcvsxegfFApFURAdMQJVRgOq62pta6im0TopwylLTUNRFHjqm26fXqmpgqIocGu4HQqqabRJynBCwpqGSVXxyQ+7MKZ/BHpwTUyqabRM2nDKVNNgjOGDfdtQWVuDNx75n6uezqeaRstaeTvFJ1NN4+u0w9h+8hBWP/03dO/W9CQTaZu04WxO5JpGTlkREncn47WHn0bfHsH8NEA1jVZJG05Zahqbj+zGbX1uwQO3jrGfaEA1jdZJG04Zahql1RU4eO4knrprPNybnaE3RzWN1kkbThlqGrmXi3CxtBCzNq7A6LhnMTruWUQt+6vtN9epptE2KR82luXXNK4YqvDjr6ehWpouYLpptbh74O3w9/ShX9Noh5ThpJqGa5AynMQ1SHvMSZwfhZMIi8JJhEXhJMJyyXB2dU2j2migmkYnuGQ4u6qmYVJVxH6ZhJGxf0H0sr9STaODXDKcXVXTKK0uR7WxFj/FJiF9yb8xY+yjeHPrh6isrQGoptEu6cMpck2jt18gVk17Gf6ePraahkk1w2Ay2tZQTaN1UoZTlpoGz2Cqg7tWSzUNB0kZTkhU07DU16Ok6grOFVxEQspmPDHiXgR629/vp5pGy6QNpyw1jcs1FXg2aSmeSHwdQ0P74Zl7HuaXUE2jFS28nXKQpabR08cfX89JQMY7nyHAyxd/SVps662TtkkbzuZErmk00mo0mHrXeJRVV+I/JQV2c1TTaJm04ZSlptGcpmEvXs+aznyoptE6acMpQ00jp6wI244fAGtI7PniPBjNdfBt9sQ+1TRaJ204ZahpAEDinmT8eV0cZm9KwPMfLcOUMeMRFtgLoJpGu6R82FiWmgYAVNbW4NMje5BdWoDJo6MwMmyI7SSNahptkzKcVNNwDVKGk7gGaY85ifOjcBJhUTiJsCicRFguGc6urmm0hGoa7XPJcHZVTaO5tJwsDHljKhL3JANU03CIS4azq2oajcwWFf/+cbftzlAjqmm0TfpwilzTaJRVeAlZhZdw200D+CmqabRBynDKVNNgjGHT4RRER4xEjbHpJ14aUU2jdVKGExLVNDLys3Em9z+YPCqKn7KhmkbLpA2nDDUNxhg2H9mNB28bgz4B9g+JNEc1jZZJG04ZahpnHdhrktZJG87mRK1pfPbTXnjqPHAi+xy2nzyE3CslOJufjeMXmo5/QTWNVkkbThlqGgwM54tzsXjHRizesREZ+Rdw8NwpfHXyUNMaqmm0StpwylDTWPzHF3As7iPbnweHjsGs6Cex+I8v2NZQTaN10oZTlppGW6im0Tbt/Pnz4/hB0ZmMNUhP3YmxE2fi4Wlv4s7op+Hj29M2r9FoERDUF0GhA20Vi+Y0Gi38e/ZBj+CboW34ahh+Gzd3PQJD+iOwVz/bGt8eIQgM6Q+LasbAWyOh92j6qUBFASJuYfj4aw30OmBI03mVTbBvACJC+yHQxw8AsOOggkMnFMTOqodHG19j46qkfBKeahquQcpwEtcg7TEncX4UTiIsCicRFoWTCIvCSYRF4STConASYVE4ibAonERYFE4iLAonERaFkwiLwkmEReEkwqJwEmFROImwKJxEWBROIiwKJxEWhZMIi8JJhEXhJMKicBJhUTiJsCicRFgUTiIsCicRFoWTCIvCSYRF4STConASYSmMOfol0YR0LdpzEmFROImwKJxEWBROIiwKJxEWhZMIi8JJhNWh65wFBQUoLmn62WhH+Hh7o3///vwwIe1yOJwnTpzAWwsXwGKx8FPt+tPkyXg+ZiY/fE1UVUV5eTl8fHyg19Nv8zkjh8O5MC4Ox44fQ0R4BD/Vpty8XNTX1+OLz5P5qU7Ly8vDM888g8LCQvj5+WHDhg0YMmQIv4xIzuFwLk9YgYLCQiSuWs1Ptend997D3u+/wzfbd/BTncIYQ2xsLHx9ffHKK68gMTER2dnZWLNmDdzcrD+gSpwEc5DJZGJVVVX8MDMYDPzQDVVWVsYef/xxdvToUcYYY0ePHmUTJkxgJSUl/FIiOYfP1t3d3eHt7W03ZrFY8Oprr2H3nj124zdSUVERDAYDgoODAQB9+lh/NbigoIBbSWTncDhbUlRcjJxLOVi1ZjVOnDzJT98QqqrCzc0NHh7W31HXarVQVRVGo5FfSiR3TeHsHRKCBW++Ba1Wi8VLl6CwsBAAcOXKFcQ8PxMPPDTB9uehRyba/nviY48iLS2Nf7lOMxgMqKio4IeJ5BwKZ+zbcXZBa/5nQVwsVFVFdXU1Yt+Og9lshr+/PxJXr0FYWJjtNRovQbm7u2Nx/CIMGzas2f/h2iiKQidDTsihcDrKw8MDjSf/3t7eWP7OMgQHBQEANBoN3NzcsDh+EUYMH85teW26d++OHj168MNEdvwZUkedP3+ePfLYY2zGs8+yyspKfprl5uayP/7pT2zK1KfY0WPH+OkOy8/PZxMmTGCnT59mjDGWkZHBxo8fzy5evMgvJZK7pj1nUVERXv/HG/Do5oF3liyBj48PvwShoaFYuWIFFsyfj9GjRvHTHebv74+goCBkZmYCADIzMxEQEEB7TmfEp7UjzGYzm/f3v7OsrCx+6obas2cPGzduHFu7di27++672bZt2/glxAk4fIdIJIwxHDp0CPv370dUVBTuvfdeKIrCLyOSczicnycnI/3MGSxZtIifatOXX32Jwz/8iJUrVlCASIc4HM6Vq1dh3/79mPrUU/xUm44ePYrfzp9HytffQKO5pkNc4mIcDue+/fvxzvJl/LBDhg8bjhXLOrctcV0OhxMAfj59Gj+f/hk33XQTAvwD+OkWaTQaDB40CDqdjp8ipE0dCichXUnKg0Cj0Yjk5GSEh4fju+++46eJk5AunGazGXPnzsXBgwcR1HBrlDgn6cLp7u6OtWvXIiEhAb169eKniRORLpzEdVA4ibAonERYFE4iLAonERaFkwiLwkmEReEkwpL23rqqqjh+/DjCwsLoYryTkjacxPnRxzoRFoWTCIvCSYQlbTjr6upQWloKVVX5KeIkpAsnYwyffPIJRowYgejoaIwZMwanT5/mlxEnIF04MzMzsX37duzcuRM///wzYmJisGTJEtTU1PBLieSkC+fgwYPx8ccfIywsDIqiYOzYsaisrKRwOiHpwqkoCjw9PW1/r6iooK9AdFLShbM5VVXx2Wef4a677oK/vz8/TSQnbTgZY0hKSkJFRQXmzJlDX3XjhKQN565du/DVV19h+fLlLX71IpGflOHMy8vDu+++i7lz5yI0NJSfJk5CynB+8cUXuOOOOxAVFcVPESciXTgvX76M/fv3Y/LkyXSG7uSke2QuPT0dU6dOhV6vt/0gq6+vLxITE+n3L52MdOEsLy/HsWPHYDabbWPu7u4YPXo0/Pz87NYSuUkXTuI6pDvmJK6DwkmEReEkwqJwEmFJG86amhp6Et7JSRdOVVWxbNkyjBw5Evfffz89Ce/EpAtnSUkJqqqq8NNPPyEtLQ0xMTFYuHAhqqqq+KVEctKFMyQkBEuWLIGfn5/tSfi6ujrU1tbyS4nkpAsnz2g0QqfT0X12JyRlOC0WC8rKyvDbb79h1apVeOKJJxAQ4NiPdhF5SBnO8vJyzJo1C48++iiGDh2KqVOn8kuIE5D63rrFYsG6detw5MgRfPjhh/Dy8uKXEIlJuedspNVq8eSTT6K0tBQ5OTn8NJGc1OFEQ0DRcP2TOBfpwpmXl4dvvvkGjUcj2dnZqK2tha+vL7+USE66Y868vDxMnz4dffv2hb+/P/bu3YvZs2fjhRdeoHqwk5EunABQXV2NLVu2ICcnB5MmTcIdd9xBwXRCUoaTuAbpjjmJ66BwEmFROImwKJxEWFKHMz09HeHh4fjggw/4KeIEpA2nqqpITk7GoEGD+CniJKQN5/nz55GVlYXbb7+dnyJOQspwMsawefNmREVFwWAw8NPESUgZzqysLKSnp2PSpEn8FHEi0oWTMYbk5GQ8+OCDCAkJ4aeJE5EunL/++ivOnDlDe00XIF04t2zZAk9PT5w6dQopKSm4dOkSzp07h7S0NH4pkZx0D34sWrQIKSkptr+XlJRAp9Nh2rRpWLBggd1aIjfpwsmbO3cuBgwYgBdffJGfIpKT7mOduA7p95xpaWnw9vbGgAED+CkiOenDSZwXfawTYVE4ibAonERYFE4iLAonERaFkwiLwkmEReEkwqJwEmFROImwKJxEWP8PtCLT8UqKuj8AAAAASUVORK5CYII=)![image.png](attachment:6f789794-2c1d-4684-b397-cc42f3eb91f0.png)"
      ]
    },
    {
      "cell_type": "code",
      "execution_count": null,
      "metadata": {
        "id": "78TKNtdFR46j"
      },
      "outputs": [],
      "source": []
    },
    {
      "cell_type": "code",
      "execution_count": 7,
      "metadata": {
        "colab": {
          "base_uri": "https://localhost:8080/"
        },
        "id": "5wZzDWyMR46j",
        "outputId": "54ee9666-f67b-41c1-fd99-462999e7c294"
      },
      "outputs": [
        {
          "output_type": "execute_result",
          "data": {
            "text/plain": [
              "['oda', 'toyotomi', 'tokugawa', 'takeda', 'uesugi', 'akechi']"
            ]
          },
          "metadata": {},
          "execution_count": 7
        }
      ],
      "source": [
        "sengoku"
      ]
    },
    {
      "cell_type": "code",
      "execution_count": 8,
      "metadata": {
        "colab": {
          "base_uri": "https://localhost:8080/"
        },
        "id": "aodJXYZaR46j",
        "outputId": "d3e572bf-f0e6-4a73-8937-4488a682eb35"
      },
      "outputs": [
        {
          "output_type": "stream",
          "name": "stdout",
          "text": [
            "oda君\n",
            "toyotomi君\n",
            "tokugawa君\n"
          ]
        }
      ],
      "source": [
        "print(sengoku[0] + \"君\")\n",
        "print(sengoku[1] + \"君\")\n",
        "print(sengoku[2] + \"君\")"
      ]
    },
    {
      "cell_type": "markdown",
      "metadata": {
        "id": "3cqM2b0YR46j"
      },
      "source": [
        "## 【大事!】出席番号のところをfor文で数字を変えて振ることができる"
      ]
    },
    {
      "cell_type": "code",
      "execution_count": 9,
      "metadata": {
        "colab": {
          "base_uri": "https://localhost:8080/"
        },
        "id": "Tl5vgkIJR46j",
        "outputId": "fbe5e5ae-257e-4959-b9c8-9c73d77fbf65"
      },
      "outputs": [
        {
          "output_type": "stream",
          "name": "stdout",
          "text": [
            "oda君\n",
            "toyotomi君\n",
            "tokugawa君\n",
            "takeda君\n",
            "uesugi君\n"
          ]
        }
      ],
      "source": [
        "for a in range(5):\n",
        "    print(sengoku[a] + \"君\")"
      ]
    },
    {
      "cell_type": "code",
      "execution_count": 9,
      "metadata": {
        "id": "ME0p8HkPR46j"
      },
      "outputs": [],
      "source": []
    },
    {
      "cell_type": "markdown",
      "metadata": {
        "id": "L_qjp25VR46k"
      },
      "source": [
        "これだとakechi君が入っていません。"
      ]
    },
    {
      "cell_type": "markdown",
      "metadata": {
        "id": "BuNLiYIyR46k"
      },
      "source": [
        "## 【応用】最初から最後までfor文を回すとき。len(list)を使います\n",
        "len(list)はリストの長さを表す**これもよく使います**"
      ]
    },
    {
      "cell_type": "code",
      "execution_count": 10,
      "metadata": {
        "colab": {
          "base_uri": "https://localhost:8080/"
        },
        "id": "HTo497YzR46k",
        "outputId": "9772043e-ff69-4299-cdaa-be78a09b7f31"
      },
      "outputs": [
        {
          "output_type": "execute_result",
          "data": {
            "text/plain": [
              "6"
            ]
          },
          "metadata": {},
          "execution_count": 10
        }
      ],
      "source": [
        "len(sengoku) # 6個の要素からできているということ"
      ]
    },
    {
      "cell_type": "code",
      "execution_count": 11,
      "metadata": {
        "colab": {
          "base_uri": "https://localhost:8080/"
        },
        "id": "_2bTzWDlR46k",
        "outputId": "ba1cbe44-04e3-487b-f9c1-b345209203ea"
      },
      "outputs": [
        {
          "output_type": "stream",
          "name": "stdout",
          "text": [
            "oda君\n",
            "toyotomi君\n",
            "tokugawa君\n",
            "takeda君\n",
            "uesugi君\n",
            "akechi君\n"
          ]
        }
      ],
      "source": [
        "for a in range(len(sengoku)):\n",
        "    print(sengoku[a] + \"君\")"
      ]
    },
    {
      "cell_type": "code",
      "execution_count": 11,
      "metadata": {
        "id": "JXbN-eUeR46k"
      },
      "outputs": [],
      "source": []
    },
    {
      "cell_type": "markdown",
      "metadata": {
        "id": "8ogxkNwuR46k"
      },
      "source": [
        "## 2.2 覚えましょう その2 <span style=\"font-size: 200%; color: blue;\">**for a in list**</span>"
      ]
    },
    {
      "cell_type": "code",
      "execution_count": 11,
      "metadata": {
        "id": "bhH6ZBRzR46k"
      },
      "outputs": [],
      "source": []
    },
    {
      "cell_type": "code",
      "execution_count": 12,
      "metadata": {
        "colab": {
          "base_uri": "https://localhost:8080/"
        },
        "id": "G2-DSUYzR46k",
        "outputId": "a0aca2de-fdcb-46ff-f93f-0ead42e355ee"
      },
      "outputs": [
        {
          "output_type": "execute_result",
          "data": {
            "text/plain": [
              "['oda', 'toyotomi', 'tokugawa', 'takeda', 'uesugi', 'akechi']"
            ]
          },
          "metadata": {},
          "execution_count": 12
        }
      ],
      "source": [
        "sengoku"
      ]
    },
    {
      "cell_type": "code",
      "execution_count": 13,
      "metadata": {
        "colab": {
          "base_uri": "https://localhost:8080/"
        },
        "id": "tJoT5mvKR46k",
        "outputId": "6a9bde42-0470-4fee-e8ac-bb28258183ce"
      },
      "outputs": [
        {
          "output_type": "stream",
          "name": "stdout",
          "text": [
            "oda\n",
            "toyotomi\n",
            "tokugawa\n",
            "takeda\n",
            "uesugi\n",
            "akechi\n"
          ]
        }
      ],
      "source": [
        "for a in sengoku:\n",
        "    print(a)"
      ]
    },
    {
      "cell_type": "markdown",
      "metadata": {
        "id": "AXiN2CZ1R46k"
      },
      "source": [
        "この場合、**無条件にリストの最初から最後まで、出席番号0からaにリストの中身**を入れてくれます。\n",
        "\n",
        "\n",
        "さっきまでは**aが数字だったのに、たいして、今回はリストの中身が文字なので、aが文字に代わっている**ことに注意。"
      ]
    },
    {
      "cell_type": "code",
      "execution_count": 13,
      "metadata": {
        "id": "d2aWwhJIR46k"
      },
      "outputs": [],
      "source": []
    },
    {
      "cell_type": "code",
      "execution_count": 13,
      "metadata": {
        "id": "d4zoCxkNR46k"
      },
      "outputs": [],
      "source": []
    },
    {
      "cell_type": "code",
      "execution_count": 14,
      "metadata": {
        "colab": {
          "base_uri": "https://localhost:8080/"
        },
        "id": "kUtCaI0WR46k",
        "outputId": "c0148869-428e-4eb9-8fd8-c3533957fce1"
      },
      "outputs": [
        {
          "output_type": "stream",
          "name": "stdout",
          "text": [
            "oda君\n",
            "toyotomi君\n",
            "tokugawa君\n",
            "takeda君\n",
            "uesugi君\n",
            "akechi君\n"
          ]
        }
      ],
      "source": [
        "for a in sengoku:\n",
        "    print(a + \"君\")"
      ]
    },
    {
      "cell_type": "code",
      "execution_count": 14,
      "metadata": {
        "id": "H7HkLBLrR46l"
      },
      "outputs": [],
      "source": []
    },
    {
      "cell_type": "markdown",
      "metadata": {
        "id": "r21vv6iDR46l"
      },
      "source": [
        "* 違いを見るためにもう一度さっきfor a in rangeの例"
      ]
    },
    {
      "cell_type": "code",
      "execution_count": 16,
      "metadata": {
        "colab": {
          "base_uri": "https://localhost:8080/"
        },
        "id": "PrZsahhoR46s",
        "outputId": "53ec1e25-9551-43fb-b3ea-c6eaf92a3f9f"
      },
      "outputs": [
        {
          "output_type": "stream",
          "name": "stdout",
          "text": [
            "0\n",
            "oda\n",
            "1\n",
            "toyotomi\n",
            "2\n",
            "tokugawa\n",
            "3\n",
            "takeda\n",
            "4\n",
            "uesugi\n",
            "5\n",
            "akechi\n"
          ]
        }
      ],
      "source": [
        "for a in range(6):\n",
        "    print(a)\n",
        "    print(sengoku[a])"
      ]
    },
    {
      "cell_type": "markdown",
      "metadata": {
        "id": "RtfIpaKWR46s"
      },
      "source": [
        "<span style=\"font-size: 200%; color: red;\">さっきのrangeとやるとaは**数字**をaに入れてくれたが、今回はダイレクトに**リストの中身**をa(この場合は文字列)に入れてくれる。これが違い</span>\n",
        "\n",
        "※　リストの中身は今回はSMAPメンバーの名前で文字列でしたが、数字の場合もあります。"
      ]
    },
    {
      "cell_type": "code",
      "execution_count": null,
      "metadata": {
        "id": "puY7zKXyR46s"
      },
      "outputs": [],
      "source": []
    },
    {
      "cell_type": "code",
      "execution_count": null,
      "metadata": {
        "id": "6zyRa7LeR46s"
      },
      "outputs": [],
      "source": []
    },
    {
      "cell_type": "markdown",
      "metadata": {
        "toc-hr-collapsed": true,
        "id": "JvqvpZ_fR46s"
      },
      "source": [
        "# 3.if文　もし～だったら、こうして"
      ]
    },
    {
      "cell_type": "code",
      "execution_count": 17,
      "metadata": {
        "colab": {
          "base_uri": "https://localhost:8080/"
        },
        "id": "um-1peQdR46s",
        "outputId": "93a23a0d-ec15-4315-d4f8-452ac310fcd9"
      },
      "outputs": [
        {
          "output_type": "execute_result",
          "data": {
            "text/plain": [
              "['oda', 'toyotomi', 'tokugawa', 'takeda', 'uesugi', 'akechi']"
            ]
          },
          "metadata": {},
          "execution_count": 17
        }
      ],
      "source": [
        "sengoku"
      ]
    },
    {
      "cell_type": "code",
      "execution_count": 18,
      "metadata": {
        "colab": {
          "base_uri": "https://localhost:8080/"
        },
        "id": "JNPPw775R46s",
        "outputId": "71b03e4f-f56b-4e13-f087-12259c257d1c"
      },
      "outputs": [
        {
          "output_type": "stream",
          "name": "stdout",
          "text": [
            "oda\n",
            "toyotomi\n",
            "tokugawa\n",
            "takeda\n",
            "uesugi\n",
            "akechi\n"
          ]
        }
      ],
      "source": [
        "for a in sengoku:\n",
        "    print(a)"
      ]
    },
    {
      "cell_type": "code",
      "execution_count": 20,
      "metadata": {
        "colab": {
          "base_uri": "https://localhost:8080/"
        },
        "id": "NK_Oq7GoR46s",
        "outputId": "fb6aef73-5e61-4695-d9b4-ffa744e3e529"
      },
      "outputs": [
        {
          "output_type": "stream",
          "name": "stdout",
          "text": [
            "toyotomiさんってすてき\n",
            "tokugawaさんってすてき\n"
          ]
        }
      ],
      "source": [
        "for a in sengoku:\n",
        "    if \"to\" in a: # あとで演習で出ます\n",
        "        print(a + \"さんってすてき\")"
      ]
    },
    {
      "cell_type": "code",
      "execution_count": 21,
      "metadata": {
        "colab": {
          "base_uri": "https://localhost:8080/"
        },
        "id": "GDlgOpkTR46t",
        "outputId": "0a935ff4-91ed-4c80-fe6d-567bb1f4a517"
      },
      "outputs": [
        {
          "output_type": "stream",
          "name": "stdout",
          "text": [
            "takedaさんってかっこいい\n"
          ]
        }
      ],
      "source": [
        "for a in sengoku:\n",
        "    if a==\"takeda\":\n",
        "        print(a + \"さんってかっこいい\")"
      ]
    },
    {
      "cell_type": "code",
      "execution_count": null,
      "metadata": {
        "id": "Y9F1gD87R46t"
      },
      "outputs": [],
      "source": [
        "# 他の条件式の書き方はDay3で教えます。文"
      ]
    },
    {
      "cell_type": "markdown",
      "metadata": {
        "id": "tA_GX5zZR46t"
      },
      "source": [
        "## for文の始まりと終わりの文字の開始位置(インデント)で決まります。"
      ]
    },
    {
      "cell_type": "code",
      "execution_count": 23,
      "metadata": {
        "colab": {
          "base_uri": "https://localhost:8080/"
        },
        "id": "NVb-YuHER46t",
        "outputId": "31c7f280-7a19-4ec5-efdb-7c58d062560c"
      },
      "outputs": [
        {
          "output_type": "stream",
          "name": "stdout",
          "text": [
            "takedaさんってかっこいい\n",
            "takeda\n"
          ]
        }
      ],
      "source": [
        "for a in sengoku:\n",
        "    if a==\"takeda\":\n",
        "        print(a + \"さんってかっこいい\")\n",
        "        print(a)"
      ]
    },
    {
      "cell_type": "markdown",
      "metadata": {
        "id": "xmTbbJAXR46t"
      },
      "source": [
        "↑　if文の中でprint(\"test\")が実行"
      ]
    },
    {
      "cell_type": "code",
      "execution_count": 24,
      "metadata": {
        "colab": {
          "base_uri": "https://localhost:8080/"
        },
        "id": "gyrsdv6IR46t",
        "outputId": "02229b0e-4552-4c7b-e99d-a175b7f4b0b6"
      },
      "outputs": [
        {
          "output_type": "stream",
          "name": "stdout",
          "text": [
            "oda\n",
            "toyotomi\n",
            "tokugawa\n",
            "takedaさんってかっこいい\n",
            "takeda\n",
            "uesugi\n",
            "akechi\n"
          ]
        }
      ],
      "source": [
        "for a in sengoku:\n",
        "    if a==\"takeda\":\n",
        "        print(a + \"さんってかっこいい\")\n",
        "    print(a)"
      ]
    },
    {
      "cell_type": "markdown",
      "metadata": {
        "id": "Md7fxJRaR46t"
      },
      "source": [
        "↑ if文の後に、print(a)が実行されています。"
      ]
    },
    {
      "cell_type": "markdown",
      "metadata": {
        "id": "lAQidV1XR46t"
      },
      "source": [
        "# 空のListからfor文で作る"
      ]
    },
    {
      "cell_type": "code",
      "execution_count": 25,
      "metadata": {
        "id": "uwoZDYEZR46t"
      },
      "outputs": [],
      "source": [
        "# 数字も可\n",
        "sengoku = [\"oda\",\"toyotomi\",\"tokugawa\",\"takeda\",\"uesugi\"]"
      ]
    },
    {
      "cell_type": "code",
      "execution_count": 26,
      "metadata": {
        "id": "qRErJMDJR46t"
      },
      "outputs": [],
      "source": [
        "test = [] # 空のリスト"
      ]
    },
    {
      "cell_type": "code",
      "execution_count": 27,
      "metadata": {
        "colab": {
          "base_uri": "https://localhost:8080/"
        },
        "id": "MLHu6yYVR46t",
        "outputId": "ba757f61-0c02-497c-ec72-ccfb9dee7166"
      },
      "outputs": [
        {
          "output_type": "stream",
          "name": "stdout",
          "text": [
            "0\n",
            "1\n",
            "2\n",
            "3\n",
            "4\n",
            "5\n",
            "6\n",
            "7\n",
            "8\n",
            "9\n"
          ]
        }
      ],
      "source": [
        "for a in range(10):\n",
        "    print(a)\n",
        "    test.append(a)"
      ]
    },
    {
      "cell_type": "code",
      "execution_count": 28,
      "metadata": {
        "colab": {
          "base_uri": "https://localhost:8080/"
        },
        "id": "3uh4nZI2R46t",
        "outputId": "8cabecab-639e-40a9-d97a-4e1eca73835f"
      },
      "outputs": [
        {
          "output_type": "execute_result",
          "data": {
            "text/plain": [
              "[0, 1, 2, 3, 4, 5, 6, 7, 8, 9]"
            ]
          },
          "metadata": {},
          "execution_count": 28
        }
      ],
      "source": [
        "test"
      ]
    },
    {
      "cell_type": "code",
      "execution_count": null,
      "metadata": {
        "id": "iCet6UW-R46t"
      },
      "outputs": [],
      "source": []
    },
    {
      "cell_type": "markdown",
      "metadata": {
        "toc-hr-collapsed": true,
        "id": "aEssTyHUR46u"
      },
      "source": [
        "# 4. 実践(演習。正答率40%くらいかな。。。)"
      ]
    },
    {
      "cell_type": "code",
      "execution_count": null,
      "metadata": {
        "id": "d4dsXLlYR46u"
      },
      "outputs": [],
      "source": [
        "import os # ファイル操作などが得意なライブラリを読む"
      ]
    },
    {
      "cell_type": "code",
      "execution_count": null,
      "metadata": {
        "id": "tVBE0jenR46u",
        "outputId": "50856d62-553b-4ece-9b02-1fdf6282ff30"
      },
      "outputs": [
        {
          "data": {
            "text/plain": [
              "'./SEM/sample'"
            ]
          },
          "execution_count": 41,
          "metadata": {},
          "output_type": "execute_result"
        }
      ],
      "source": [
        "path = r\"./SEM/sample\"\n",
        "path"
      ]
    },
    {
      "cell_type": "code",
      "execution_count": null,
      "metadata": {
        "id": "BOPufD1sR46u"
      },
      "outputs": [],
      "source": [
        "filename = os.listdir(path)"
      ]
    },
    {
      "cell_type": "code",
      "execution_count": null,
      "metadata": {
        "id": "We4uA9RLR46u",
        "outputId": "28b5b606-8f85-449a-efb0-dd3dce5c7c66"
      },
      "outputs": [
        {
          "data": {
            "text/plain": [
              "['00001.JPG',\n",
              " '00002.JPG',\n",
              " '00003.JPG',\n",
              " '00004.JPG',\n",
              " '00005.JPG',\n",
              " '00006.JPG',\n",
              " '00007.JPG',\n",
              " '00008.JPG',\n",
              " '00009.JPG',\n",
              " '00010.JPG',\n",
              " '00011.JPG',\n",
              " '00012.JPG',\n",
              " 'COMMANDLOG.CSV',\n",
              " 'test.csv',\n",
              " 'Thumbs.db',\n",
              " 'VMResult.CSV',\n",
              " 'VMResult2D.CSV',\n",
              " 'VMResultArr.CSV',\n",
              " 'VMResultNP2D.CSV',\n",
              " 'VMResultNPCR.CSV',\n",
              " 'VMResultNPH.CSV',\n",
              " 'VMResultNPW.CSV',\n",
              " 'VMResultSimple.csv']"
            ]
          },
          "execution_count": 43,
          "metadata": {},
          "output_type": "execute_result"
        }
      ],
      "source": [
        "filename"
      ]
    },
    {
      "cell_type": "code",
      "execution_count": null,
      "metadata": {
        "id": "cjMTOaS9R46u"
      },
      "outputs": [],
      "source": []
    },
    {
      "cell_type": "markdown",
      "metadata": {
        "id": "OKj861TPR46u"
      },
      "source": [
        "## 演習 : jpgfileという名前でfilenameの中のJPGファイルだけを抜き出してリストを作りましょう。↓になっていればOK\n",
        "※　できた人は.CSVだけも作ってみましょう。"
      ]
    },
    {
      "cell_type": "markdown",
      "metadata": {
        "id": "FgIVgLPdR46u"
      },
      "source": [
        "![image.png](attachment:3ccc845d-bffe-43b0-b607-3ddc1519e303.png)"
      ]
    },
    {
      "cell_type": "code",
      "execution_count": null,
      "metadata": {
        "id": "VtxiOaK-R46u"
      },
      "outputs": [],
      "source": []
    },
    {
      "cell_type": "code",
      "execution_count": null,
      "metadata": {
        "id": "i4T559sjR46u"
      },
      "outputs": [],
      "source": []
    },
    {
      "cell_type": "code",
      "execution_count": null,
      "metadata": {
        "id": "HR8lYgeSR46u"
      },
      "outputs": [],
      "source": []
    },
    {
      "cell_type": "code",
      "execution_count": null,
      "metadata": {
        "id": "iFZSEq41R46u"
      },
      "outputs": [],
      "source": []
    },
    {
      "cell_type": "code",
      "execution_count": null,
      "metadata": {
        "id": "p5V0o3Z1R46u"
      },
      "outputs": [],
      "source": []
    },
    {
      "cell_type": "code",
      "execution_count": null,
      "metadata": {
        "id": "bIzER4z2R46u"
      },
      "outputs": [],
      "source": []
    },
    {
      "cell_type": "code",
      "execution_count": null,
      "metadata": {
        "id": "mDimd8CWR46u"
      },
      "outputs": [],
      "source": []
    },
    {
      "cell_type": "code",
      "execution_count": null,
      "metadata": {
        "id": "2aluioo4R46u"
      },
      "outputs": [],
      "source": []
    },
    {
      "cell_type": "code",
      "execution_count": null,
      "metadata": {
        "id": "XHHDnycsR46v"
      },
      "outputs": [],
      "source": []
    },
    {
      "cell_type": "code",
      "execution_count": null,
      "metadata": {
        "id": "w40daYgvR46v"
      },
      "outputs": [],
      "source": []
    },
    {
      "cell_type": "code",
      "execution_count": null,
      "metadata": {
        "id": "dpZEsxqWR46v"
      },
      "outputs": [],
      "source": []
    },
    {
      "cell_type": "code",
      "execution_count": null,
      "metadata": {
        "id": "E4JqrBzSR46v"
      },
      "outputs": [],
      "source": []
    },
    {
      "cell_type": "code",
      "execution_count": null,
      "metadata": {
        "id": "6ywOYgvdR46v"
      },
      "outputs": [],
      "source": []
    },
    {
      "cell_type": "code",
      "execution_count": null,
      "metadata": {
        "id": "xExmcB1MR46v"
      },
      "outputs": [],
      "source": []
    },
    {
      "cell_type": "code",
      "execution_count": null,
      "metadata": {
        "id": "9f1nAqKFR46v"
      },
      "outputs": [],
      "source": []
    },
    {
      "cell_type": "code",
      "execution_count": null,
      "metadata": {
        "id": "FA-5SaLTR46v"
      },
      "outputs": [],
      "source": []
    },
    {
      "cell_type": "code",
      "execution_count": null,
      "metadata": {
        "id": "mSaZFElhR46v"
      },
      "outputs": [],
      "source": [
        "jpgfile=[]"
      ]
    },
    {
      "cell_type": "code",
      "execution_count": null,
      "metadata": {
        "id": "RPq1WofvR46v"
      },
      "outputs": [],
      "source": [
        "for a in filename:\n",
        "    if \".JPG\" in a:\n",
        "        jpgfile.append(a)\n",
        ""
      ]
    },
    {
      "cell_type": "code",
      "execution_count": null,
      "metadata": {
        "id": "RcYNdDUCR46v",
        "outputId": "a90867bf-5393-4b4c-fff5-e9b2a396cf6b"
      },
      "outputs": [
        {
          "data": {
            "text/plain": [
              "['00001.JPG',\n",
              " '00002.JPG',\n",
              " '00003.JPG',\n",
              " '00004.JPG',\n",
              " '00005.JPG',\n",
              " '00006.JPG',\n",
              " '00007.JPG',\n",
              " '00008.JPG',\n",
              " '00009.JPG',\n",
              " '00010.JPG',\n",
              " '00011.JPG',\n",
              " '00012.JPG']"
            ]
          },
          "execution_count": 46,
          "metadata": {},
          "output_type": "execute_result"
        }
      ],
      "source": [
        "jpgfile"
      ]
    },
    {
      "cell_type": "markdown",
      "metadata": {
        "tags": [],
        "toc-hr-collapsed": true,
        "id": "jlG6d3c1R46v"
      },
      "source": [
        "# 次にこのJPG画像を全部表示することを考える\n",
        "\n",
        "<span style=\"font-size: 200%; color: red;\">**大事なポイント : for文でいきなり全部回すことを考えるのではなく、まず一枚でtryしてみる**</span>\n",
        "\n",
        "## 下準備\n",
        "\n",
        "### ファイル名だけになっていて、画像の場所を言っていないので、画像の場所に置き換えてあげる"
      ]
    },
    {
      "cell_type": "code",
      "execution_count": null,
      "metadata": {
        "id": "wgWOhBz1R46v",
        "outputId": "d314614a-8c4a-4525-d315-9471818de515"
      },
      "outputs": [
        {
          "data": {
            "text/plain": [
              "'./SEM/sample'"
            ]
          },
          "execution_count": 47,
          "metadata": {},
          "output_type": "execute_result"
        }
      ],
      "source": [
        "path"
      ]
    },
    {
      "cell_type": "code",
      "execution_count": null,
      "metadata": {
        "id": "oqgtnv4ER46w",
        "outputId": "f91a913c-058b-4583-fbac-43abe13159e3"
      },
      "outputs": [
        {
          "ename": "TypeError",
          "evalue": "can only concatenate str (not \"list\") to str",
          "output_type": "error",
          "traceback": [
            "\u001b[1;31m---------------------------------------------------------------------------\u001b[0m",
            "\u001b[1;31mTypeError\u001b[0m                                 Traceback (most recent call last)",
            "\u001b[1;32m~\\AppData\\Local\\Temp/ipykernel_7444/2589544430.py\u001b[0m in \u001b[0;36m<module>\u001b[1;34m\u001b[0m\n\u001b[1;32m----> 1\u001b[1;33m \u001b[0mpath\u001b[0m \u001b[1;33m+\u001b[0m \u001b[0mjpgfile\u001b[0m\u001b[1;33m\u001b[0m\u001b[1;33m\u001b[0m\u001b[0m\n\u001b[0m",
            "\u001b[1;31mTypeError\u001b[0m: can only concatenate str (not \"list\") to str"
          ]
        }
      ],
      "source": [
        "path + jpgfile"
      ]
    },
    {
      "cell_type": "markdown",
      "metadata": {
        "id": "BVYN002eR46w"
      },
      "source": [
        "### pathが1つの要素しかないので、jpgfileは12個の要素があるので、足せない・・・ では1つなら ?"
      ]
    },
    {
      "cell_type": "code",
      "execution_count": null,
      "metadata": {
        "id": "oD-DPrufR46w"
      },
      "outputs": [],
      "source": [
        "path + jpgfile[0] # いけそうだが、sample　と 00001.JPGの間に/が足りない"
      ]
    },
    {
      "cell_type": "code",
      "execution_count": null,
      "metadata": {
        "id": "dy6KvBgcR46w"
      },
      "outputs": [],
      "source": [
        "path + \"/\" + jpgfile[0] # バックスラッシュはキーボードで　ひらがなの　”め”　の位置(右下らへん)"
      ]
    },
    {
      "cell_type": "code",
      "execution_count": null,
      "metadata": {
        "id": "zKaLzpL1R46w"
      },
      "outputs": [],
      "source": [
        "# 円マーク使いたい人は二個入れないとダメなんです。\n",
        "path + \"\\\\\" + jpgfile[0]"
      ]
    },
    {
      "cell_type": "code",
      "execution_count": null,
      "metadata": {
        "id": "JTMLASAPR46w"
      },
      "outputs": [],
      "source": []
    },
    {
      "cell_type": "code",
      "execution_count": null,
      "metadata": {
        "id": "SrDVcwdeR46w"
      },
      "outputs": [],
      "source": [
        "tmp = path + \"/\" + jpgfile[0]\n",
        "tmp"
      ]
    },
    {
      "cell_type": "code",
      "execution_count": null,
      "metadata": {
        "id": "-25yHxGKR46w"
      },
      "outputs": [],
      "source": []
    },
    {
      "cell_type": "markdown",
      "metadata": {
        "id": "zCr767LBR46w"
      },
      "source": [
        "## 画像表示\n",
        "### step1 : この1枚をまず表示します。"
      ]
    },
    {
      "cell_type": "code",
      "execution_count": null,
      "metadata": {
        "id": "MPDP9A4nR46w"
      },
      "outputs": [],
      "source": [
        "import cv2\n",
        "import matplotlib.pyplot as plt"
      ]
    },
    {
      "cell_type": "code",
      "execution_count": null,
      "metadata": {
        "id": "_226pUtXR46w"
      },
      "outputs": [],
      "source": [
        "img = cv2.imread(tmp) # 画像の読み込み\n",
        "plt.imshow(img) # 画像の表示"
      ]
    },
    {
      "cell_type": "markdown",
      "metadata": {
        "id": "Rkes4CP-R46w"
      },
      "source": [
        "### step2 : 1つのセルに1枚表示をまとめます"
      ]
    },
    {
      "cell_type": "code",
      "execution_count": null,
      "metadata": {
        "id": "95cYG41zR46x"
      },
      "outputs": [],
      "source": [
        "tmp = path + \"\\\\\" + jpgfile[0]\n",
        "img = cv2.imread(tmp)\n",
        "plt.imshow(img)"
      ]
    },
    {
      "cell_type": "markdown",
      "metadata": {
        "id": "Fw2xfJM0R46x"
      },
      "source": [
        "### step3 : 出席番号をfor文で最初から最後まで振ってあげます。"
      ]
    },
    {
      "cell_type": "code",
      "execution_count": null,
      "metadata": {
        "id": "BRVBcOqoR46x"
      },
      "outputs": [],
      "source": [
        "for a in range(len(jpgfile)):\n",
        "    tmp = path + \"\\\\\" + jpgfile[a]\n",
        "    img = cv2.imread(tmp)\n",
        "    plt.imshow(img)"
      ]
    },
    {
      "cell_type": "markdown",
      "metadata": {
        "id": "3i9JFf9MR46x"
      },
      "source": [
        "↑　実は図が上書きされちゃっていて、1枚しか表示されない"
      ]
    },
    {
      "cell_type": "markdown",
      "metadata": {
        "id": "3OVl7Iw8R46x"
      },
      "source": [
        "### step4 : 微調整する"
      ]
    },
    {
      "cell_type": "code",
      "execution_count": null,
      "metadata": {
        "id": "xrvA-uYER46x"
      },
      "outputs": [],
      "source": [
        "for a in range(len(jpgfile)):\n",
        "    tmp = path + \"\\\\\" + jpgfile[a]\n",
        "    img = cv2.imread(tmp)\n",
        "\n",
        "    plt.figure() # 図を新しく挿入する\n",
        "    plt.imshow(img)"
      ]
    },
    {
      "cell_type": "code",
      "execution_count": null,
      "metadata": {
        "id": "JCAvyi91R46x"
      },
      "outputs": [],
      "source": []
    },
    {
      "cell_type": "code",
      "execution_count": null,
      "metadata": {
        "id": "5RS2KQnDR46x"
      },
      "outputs": [],
      "source": []
    }
  ],
  "metadata": {
    "kernelspec": {
      "display_name": ".venv",
      "language": "python",
      "name": "python3"
    },
    "language_info": {
      "codemirror_mode": {
        "name": "ipython",
        "version": 3
      },
      "file_extension": ".py",
      "mimetype": "text/x-python",
      "name": "python",
      "nbconvert_exporter": "python",
      "pygments_lexer": "ipython3",
      "version": "3.13.2"
    },
    "toc-autonumbering": true,
    "colab": {
      "provenance": []
    }
  },
  "nbformat": 4,
  "nbformat_minor": 0
}